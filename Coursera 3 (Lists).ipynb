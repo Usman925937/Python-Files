{
 "cells": [
  {
   "cell_type": "code",
   "execution_count": 2,
   "id": "6a35405a",
   "metadata": {},
   "outputs": [],
   "source": [
    "# Create a list\n",
    "\n",
    "L = [\"Michael Jackson\", 10.1, 1982]"
   ]
  },
  {
   "cell_type": "code",
   "execution_count": 8,
   "id": "1da8c614",
   "metadata": {},
   "outputs": [
    {
     "data": {
      "text/plain": [
       "'Michael Jackson'"
      ]
     },
     "execution_count": 8,
     "metadata": {},
     "output_type": "execute_result"
    }
   ],
   "source": [
    "L[0]"
   ]
  },
  {
   "cell_type": "code",
   "execution_count": 31,
   "id": "2ba04130",
   "metadata": {},
   "outputs": [
    {
     "name": "stdout",
     "output_type": "stream",
     "text": [
      "The same element using positive and negative indexing :\n",
      " Positive: Michael Jackson \n",
      " Negative: 1982\n"
     ]
    }
   ],
   "source": [
    "# Print the elements on each index\n",
    "\n",
    "print ('The same element using positive and negative indexing :\\n Positive:' ,L[0],\n",
    "       '\\n Negative:',L[-1] )"
   ]
  },
  {
   "cell_type": "code",
   "execution_count": 9,
   "id": "2b78c9bd",
   "metadata": {},
   "outputs": [
    {
     "data": {
      "text/plain": [
       "'Michael Jackson'"
      ]
     },
     "execution_count": 9,
     "metadata": {},
     "output_type": "execute_result"
    }
   ],
   "source": [
    "L[-3]"
   ]
  },
  {
   "cell_type": "code",
   "execution_count": 13,
   "id": "ea4affcf",
   "metadata": {},
   "outputs": [
    {
     "data": {
      "text/plain": [
       "1982"
      ]
     },
     "execution_count": 13,
     "metadata": {},
     "output_type": "execute_result"
    }
   ],
   "source": [
    "L[-1]"
   ]
  },
  {
   "cell_type": "code",
   "execution_count": null,
   "id": "34a37422",
   "metadata": {},
   "outputs": [],
   "source": []
  },
  {
   "cell_type": "code",
   "execution_count": null,
   "id": "ec8fcedc",
   "metadata": {},
   "outputs": [],
   "source": [
    "# LIST CONTENT\n",
    "\n",
    "Lists can contain strings, floats, and integers. We can nest other lists, and we can also nest tuples and \n",
    "other data structures. The same indexing conventions apply for nesting"
   ]
  },
  {
   "cell_type": "code",
   "execution_count": 32,
   "id": "024996f5",
   "metadata": {},
   "outputs": [
    {
     "data": {
      "text/plain": [
       "['Michael Jackson', 10.1, 1982, [1, 2], ('A', 1)]"
      ]
     },
     "execution_count": 32,
     "metadata": {},
     "output_type": "execute_result"
    }
   ],
   "source": [
    "['Michael Jackson', 10.1, 1982, [1,2], ('A',1)]"
   ]
  },
  {
   "cell_type": "code",
   "execution_count": null,
   "id": "2160bac2",
   "metadata": {},
   "outputs": [],
   "source": []
  },
  {
   "cell_type": "code",
   "execution_count": null,
   "id": "cc2f3247",
   "metadata": {},
   "outputs": [],
   "source": [
    "# List Operations\n",
    "\n",
    "We can also perform slicing in lists. For example, if we want the last two elements, we use the following command:"
   ]
  },
  {
   "cell_type": "code",
   "execution_count": 35,
   "id": "487cd694",
   "metadata": {},
   "outputs": [],
   "source": [
    "# Sample List\n",
    "\n",
    "\n",
    "L = ['Michael Jackson', 10.1, 1982, 'MJ',1]\n",
    "          0               1     2    3   4\n",
    "# If we want to get MJ & 1 we will write 3:5 (not 3:4 we will type 1 extra no. to the end digit)"
   ]
  },
  {
   "cell_type": "code",
   "execution_count": 40,
   "id": "67ef00e6",
   "metadata": {},
   "outputs": [
    {
     "data": {
      "text/plain": [
       "['MJ', 1]"
      ]
     },
     "execution_count": 40,
     "metadata": {},
     "output_type": "execute_result"
    }
   ],
   "source": [
    "# List slicing\n",
    "\n",
    "L [3:5]"
   ]
  },
  {
   "cell_type": "code",
   "execution_count": null,
   "id": "4406dd24",
   "metadata": {},
   "outputs": [],
   "source": []
  },
  {
   "cell_type": "code",
   "execution_count": null,
   "id": "1d05490a",
   "metadata": {},
   "outputs": [],
   "source": [
    "# We can use the method extend to add new elements to the list:"
   ]
  },
  {
   "cell_type": "code",
   "execution_count": 42,
   "id": "d0867d93",
   "metadata": {},
   "outputs": [
    {
     "data": {
      "text/plain": [
       "['Michael Jackson', 10.2, 'pop', 'Usman']"
      ]
     },
     "execution_count": 42,
     "metadata": {},
     "output_type": "execute_result"
    }
   ],
   "source": [
    "# Use extend to add elements to list\n",
    "\n",
    "L = [ \"Michael Jackson\", 10.2]\n",
    "L.extend (['pop', 'Usman'])\n",
    "L"
   ]
  },
  {
   "cell_type": "code",
   "execution_count": null,
   "id": "933c1c5b",
   "metadata": {},
   "outputs": [],
   "source": []
  },
  {
   "cell_type": "code",
   "execution_count": null,
   "id": "3c766021",
   "metadata": {},
   "outputs": [],
   "source": [
    "# Another similar method is append. If we apply append instead of extend,\n",
    "# It adds only one element to the list: even if we order it to append multiple elements\n",
    "    "
   ]
  },
  {
   "cell_type": "code",
   "execution_count": 51,
   "id": "dc235dd7",
   "metadata": {},
   "outputs": [
    {
     "data": {
      "text/plain": [
       "['Michael Jackson', 10.2, ['pop', 10]]"
      ]
     },
     "execution_count": 51,
     "metadata": {},
     "output_type": "execute_result"
    }
   ],
   "source": [
    "# Use append to add elements to list\n",
    "\n",
    "L = [ \"Michael Jackson\", 10.2]\n",
    "L.append (['pop', 10])\n",
    "L"
   ]
  },
  {
   "cell_type": "code",
   "execution_count": null,
   "id": "dfb1de91",
   "metadata": {},
   "outputs": [],
   "source": []
  },
  {
   "cell_type": "code",
   "execution_count": null,
   "id": "a6c386c7",
   "metadata": {},
   "outputs": [],
   "source": [
    "# Each time we apply a method, the list changes. If we apply extend we add two new elements to the list. \n",
    "# The list L is then modified by adding two new elements:"
   ]
  },
  {
   "cell_type": "code",
   "execution_count": 7,
   "id": "9afad887",
   "metadata": {},
   "outputs": [
    {
     "data": {
      "text/plain": [
       "['Michael Jackson', 10.2, 'pop', 10]"
      ]
     },
     "execution_count": 7,
     "metadata": {},
     "output_type": "execute_result"
    }
   ],
   "source": [
    "# Use extend to add elements to list\n",
    "\n",
    "L = [ \"Michael Jackson\", 10.2]\n",
    "L.extend (['pop', 10])\n",
    "L"
   ]
  },
  {
   "cell_type": "code",
   "execution_count": null,
   "id": "ceb47e14",
   "metadata": {},
   "outputs": [],
   "source": []
  },
  {
   "cell_type": "code",
   "execution_count": null,
   "id": "fb576a60",
   "metadata": {},
   "outputs": [],
   "source": [
    "# If we append the list ['a','b'] we have one new element consisting of a nested list:"
   ]
  },
  {
   "cell_type": "code",
   "execution_count": 8,
   "id": "7625ce81",
   "metadata": {},
   "outputs": [
    {
     "data": {
      "text/plain": [
       "['Michael Jackson', 10.2, 'pop', 10, ['a', 'b']]"
      ]
     },
     "execution_count": 8,
     "metadata": {},
     "output_type": "execute_result"
    }
   ],
   "source": [
    "# Use append to add elements to list\n",
    "\n",
    "L.append(['a','b'])\n",
    "L"
   ]
  },
  {
   "cell_type": "code",
   "execution_count": null,
   "id": "6777cd53",
   "metadata": {},
   "outputs": [],
   "source": []
  },
  {
   "cell_type": "code",
   "execution_count": null,
   "id": "c6758be4",
   "metadata": {},
   "outputs": [],
   "source": [
    "# As lists are MUTABLE, we can change them. For example, we can change the first element as follows:"
   ]
  },
  {
   "cell_type": "code",
   "execution_count": 11,
   "id": "7b4c159e",
   "metadata": {},
   "outputs": [
    {
     "data": {
      "text/plain": [
       "['Dance', 10, 1.2]"
      ]
     },
     "execution_count": 11,
     "metadata": {},
     "output_type": "execute_result"
    }
   ],
   "source": [
    "# Changing element based on the index       #index starts from 0, 1, 2 ,3\n",
    "\n",
    "A = ['Disco', 10, 1.2]\n",
    "A\n",
    "# Now Changing Disco with Dance\n",
    "A[0] = 'Dance'\n",
    "A"
   ]
  },
  {
   "cell_type": "code",
   "execution_count": null,
   "id": "be51fa26",
   "metadata": {},
   "outputs": [],
   "source": [
    "# Deleting element using del command"
   ]
  },
  {
   "cell_type": "code",
   "execution_count": 12,
   "id": "b90e05a0",
   "metadata": {},
   "outputs": [
    {
     "data": {
      "text/plain": [
       "['Dance', 1.2]"
      ]
     },
     "execution_count": 12,
     "metadata": {},
     "output_type": "execute_result"
    }
   ],
   "source": [
    "# Deleting 10 from A\n",
    "\n",
    "del(A[1])\n",
    "A"
   ]
  },
  {
   "cell_type": "code",
   "execution_count": null,
   "id": "b842b60a",
   "metadata": {},
   "outputs": [],
   "source": []
  },
  {
   "cell_type": "code",
   "execution_count": null,
   "id": "514fb095",
   "metadata": {},
   "outputs": [],
   "source": [
    "# We can convert a string to a list using split"
   ]
  },
  {
   "cell_type": "code",
   "execution_count": 13,
   "id": "671a3b07",
   "metadata": {},
   "outputs": [
    {
     "data": {
      "text/plain": [
       "['hard', 'rock']"
      ]
     },
     "execution_count": 13,
     "metadata": {},
     "output_type": "execute_result"
    }
   ],
   "source": [
    "'hard rock'.split()"
   ]
  },
  {
   "cell_type": "code",
   "execution_count": null,
   "id": "1376a6ee",
   "metadata": {},
   "outputs": [],
   "source": [
    "# We can use the split function to separate strings on a specific character which we call a delimiter. \n",
    "# We pass the character we would like to split on into the argument, which in this case is a comma. \n",
    "# The result is a list, and each element corresponds to a set of characters that have been separated by a comma:"
   ]
  },
  {
   "cell_type": "code",
   "execution_count": 17,
   "id": "49d4fbc3",
   "metadata": {},
   "outputs": [
    {
     "data": {
      "text/plain": [
       "['A', 'B', 'C', 'D']"
      ]
     },
     "execution_count": 17,
     "metadata": {},
     "output_type": "execute_result"
    }
   ],
   "source": [
    "# Split the string by comma\n",
    "\n",
    "'A,B,C,D'.split(',')"
   ]
  },
  {
   "cell_type": "code",
   "execution_count": null,
   "id": "1b1ceaff",
   "metadata": {},
   "outputs": [],
   "source": []
  },
  {
   "cell_type": "code",
   "execution_count": null,
   "id": "2e3d6360",
   "metadata": {},
   "outputs": [],
   "source": [
    "# Copy and Clone List"
   ]
  },
  {
   "cell_type": "code",
   "execution_count": null,
   "id": "3629a054",
   "metadata": {},
   "outputs": [],
   "source": [
    "When we set one variable B equal to A, both A and B are referencing the same list in memory:"
   ]
  },
  {
   "cell_type": "code",
   "execution_count": 31,
   "id": "01e9264c",
   "metadata": {},
   "outputs": [
    {
     "name": "stdout",
     "output_type": "stream",
     "text": [
      "A: ['hard rock', 10, 1.2]\n",
      "B: ['hard rock', 10, 1.2]\n"
     ]
    }
   ],
   "source": [
    "# Copy (copy by reference) the list A\n",
    "\n",
    "A = [\"hard rock\", 10, 1.2]\n",
    "B = A\n",
    "print('A:', A)\n",
    "print ('B:', B)"
   ]
  },
  {
   "cell_type": "code",
   "execution_count": 32,
   "id": "15fb2818",
   "metadata": {},
   "outputs": [
    {
     "name": "stdout",
     "output_type": "stream",
     "text": [
      "['hard rock', 10, 1.2]\n",
      "['hard rock', 10, 1.2]\n"
     ]
    }
   ],
   "source": [
    "# or You can also print\n",
    "print (A)\n",
    "print (B)"
   ]
  },
  {
   "cell_type": "code",
   "execution_count": 35,
   "id": "c3760816",
   "metadata": {},
   "outputs": [
    {
     "name": "stdout",
     "output_type": "stream",
     "text": [
      "A: ['singer', 10, 1.2]\n",
      "B: ['singer', 10, 1.2]\n"
     ]
    }
   ],
   "source": [
    "# Now if we change value of A then B will also change and viceversa\n",
    "\n",
    "A[0] = 'singer'\n",
    "print ('A:', A)\n",
    "print ('B:', B)"
   ]
  },
  {
   "cell_type": "code",
   "execution_count": null,
   "id": "5c76382c",
   "metadata": {},
   "outputs": [],
   "source": [
    "# To avoid this\n",
    "# You can clone list A by using the following syntax:"
   ]
  },
  {
   "cell_type": "code",
   "execution_count": 37,
   "id": "aa752f18",
   "metadata": {},
   "outputs": [],
   "source": [
    "A = B[:]\n",
    "# Or\n",
    "B = A[:]"
   ]
  },
  {
   "cell_type": "code",
   "execution_count": 41,
   "id": "efaf91c1",
   "metadata": {},
   "outputs": [
    {
     "name": "stdout",
     "output_type": "stream",
     "text": [
      "A: ['KIBOR', 10, 1.2]\n",
      "B: ['singer', 10, 1.2]\n"
     ]
    }
   ],
   "source": [
    "# Now if we make a change in A then B willnot change\n",
    "\n",
    "A[0] = 'KIBOR'\n",
    "print ('A:', A)\n",
    "print ('B:', B)\n"
   ]
  },
  {
   "cell_type": "code",
   "execution_count": null,
   "id": "76808ae9",
   "metadata": {},
   "outputs": [],
   "source": []
  },
  {
   "cell_type": "code",
   "execution_count": null,
   "id": "56151572",
   "metadata": {},
   "outputs": [],
   "source": [
    "# Quiz on List"
   ]
  },
  {
   "cell_type": "code",
   "execution_count": 47,
   "id": "be01a28f",
   "metadata": {},
   "outputs": [
    {
     "name": "stdout",
     "output_type": "stream",
     "text": [
      "a_list: [1, 'hello', [1, 2, 3], 'True']\n"
     ]
    }
   ],
   "source": [
    "# Create a list a_list, with the following elements 1, hello, [1,2,3] and True.\n",
    "\n",
    "a_list = [1, 'hello', [1,2,3], 'True']\n",
    "print ('a_list:', a_list)"
   ]
  },
  {
   "cell_type": "code",
   "execution_count": null,
   "id": "d508445d",
   "metadata": {},
   "outputs": [],
   "source": []
  },
  {
   "cell_type": "code",
   "execution_count": 48,
   "id": "718404a9",
   "metadata": {},
   "outputs": [
    {
     "data": {
      "text/plain": [
       "'hello'"
      ]
     },
     "execution_count": 48,
     "metadata": {},
     "output_type": "execute_result"
    }
   ],
   "source": [
    "# Find the value stored at index 1 of a_list.\n",
    "\n",
    "a_list[1]"
   ]
  },
  {
   "cell_type": "code",
   "execution_count": null,
   "id": "06eb7d10",
   "metadata": {},
   "outputs": [],
   "source": []
  },
  {
   "cell_type": "code",
   "execution_count": 51,
   "id": "2eff2f90",
   "metadata": {},
   "outputs": [
    {
     "data": {
      "text/plain": [
       "['hello', [1, 2, 3], 'True']"
      ]
     },
     "execution_count": 51,
     "metadata": {},
     "output_type": "execute_result"
    }
   ],
   "source": [
    "# Retrieve the elements stored at index 1, 2 and 3 of a_list\n",
    "\n",
    "a_list[1:4]"
   ]
  },
  {
   "cell_type": "code",
   "execution_count": null,
   "id": "8096b473",
   "metadata": {},
   "outputs": [],
   "source": []
  },
  {
   "cell_type": "code",
   "execution_count": 54,
   "id": "1fa15c6b",
   "metadata": {},
   "outputs": [
    {
     "data": {
      "text/plain": [
       "[1, 'a', 2, 1, 'd']"
      ]
     },
     "execution_count": 54,
     "metadata": {},
     "output_type": "execute_result"
    }
   ],
   "source": [
    "# Concatenate the following lists A = [1, 'a'] and B = [2, 1, 'd']:\n",
    "\n",
    "A = [1, 'a'] \n",
    "B = [2, 1, 'd']\n",
    "Concatenate = A + B\n",
    "Concatenate"
   ]
  },
  {
   "cell_type": "code",
   "execution_count": null,
   "id": "bb5752a8",
   "metadata": {},
   "outputs": [],
   "source": []
  },
  {
   "cell_type": "code",
   "execution_count": null,
   "id": "b3f4a224",
   "metadata": {},
   "outputs": [],
   "source": [
    "# Scenario : Shopping list"
   ]
  },
  {
   "cell_type": "code",
   "execution_count": 58,
   "id": "751811a5",
   "metadata": {},
   "outputs": [
    {
     "data": {
      "text/plain": [
       "[]"
      ]
     },
     "execution_count": 58,
     "metadata": {},
     "output_type": "execute_result"
    }
   ],
   "source": [
    "# Task-1 Create an empty list\n",
    "\n",
    "Shopping_list = []\n",
    "Shopping_list"
   ]
  },
  {
   "cell_type": "code",
   "execution_count": null,
   "id": "064567f3",
   "metadata": {},
   "outputs": [],
   "source": []
  },
  {
   "cell_type": "code",
   "execution_count": 63,
   "id": "b396bc66",
   "metadata": {},
   "outputs": [
    {
     "data": {
      "text/plain": [
       "['Watch', 'Laptop', 'Shoes', 'Pen', 'Clothes']"
      ]
     },
     "execution_count": 63,
     "metadata": {},
     "output_type": "execute_result"
    }
   ],
   "source": [
    "# Task-2 Now store the number of items to the shopping_list\n",
    "\n",
    "Shopping_list = ['Watch', 'Laptop', 'Shoes', 'Pen', 'Clothes']\n",
    "Shopping_list"
   ]
  },
  {
   "cell_type": "code",
   "execution_count": null,
   "id": "3c2534b9",
   "metadata": {},
   "outputs": [],
   "source": []
  },
  {
   "cell_type": "code",
   "execution_count": 64,
   "id": "c1b0cd02",
   "metadata": {},
   "outputs": [
    {
     "data": {
      "text/plain": [
       "['Watch', 'Laptop', 'Shoes', 'Pen', 'Clothes', 'Football']"
      ]
     },
     "execution_count": 64,
     "metadata": {},
     "output_type": "execute_result"
    }
   ],
   "source": [
    "# Task-3 Add a new item to the shopping_list\n",
    "# Seems like I missed one item \"Football\" to add in the shopping list.\n",
    "\n",
    "Shopping_list.append ('Football')\n",
    "Shopping_list"
   ]
  },
  {
   "cell_type": "code",
   "execution_count": null,
   "id": "07c0c9d3",
   "metadata": {},
   "outputs": [],
   "source": []
  },
  {
   "cell_type": "code",
   "execution_count": 66,
   "id": "16c2c496",
   "metadata": {},
   "outputs": [
    {
     "name": "stdout",
     "output_type": "stream",
     "text": [
      "Watch\n"
     ]
    }
   ],
   "source": [
    "# Task-4 Print First item from the shopping_list\n",
    "# Let's check the first item that we need to buy.\n",
    "\n",
    "print (Shopping_list[0])"
   ]
  },
  {
   "cell_type": "code",
   "execution_count": null,
   "id": "8888585a",
   "metadata": {},
   "outputs": [],
   "source": []
  },
  {
   "cell_type": "code",
   "execution_count": 68,
   "id": "0c32d5b6",
   "metadata": {},
   "outputs": [
    {
     "name": "stdout",
     "output_type": "stream",
     "text": [
      "Football\n"
     ]
    }
   ],
   "source": [
    "# Task-5 Print Last item from the shopping_list\n",
    "# Let's check the last time that we need to buy.\n",
    "\n",
    "print (Shopping_list[-1])"
   ]
  },
  {
   "cell_type": "code",
   "execution_count": null,
   "id": "4d10ae74",
   "metadata": {},
   "outputs": [],
   "source": []
  },
  {
   "cell_type": "code",
   "execution_count": 72,
   "id": "4f4d64ef",
   "metadata": {},
   "outputs": [
    {
     "name": "stdout",
     "output_type": "stream",
     "text": [
      "['Watch', 'Laptop', 'Shoes', 'Pen', 'Clothes', 'Football']\n",
      "Shopping list: ['Watch', 'Laptop', 'Shoes', 'Pen', 'Clothes', 'Football']\n"
     ]
    }
   ],
   "source": [
    "# Task-6 Print the entire Shopping List¶\n",
    "\n",
    "print (Shopping_list)\n",
    "# Or you can also do\n",
    "print ('Shopping list:', Shopping_list)"
   ]
  },
  {
   "cell_type": "code",
   "execution_count": null,
   "id": "0e627362",
   "metadata": {},
   "outputs": [],
   "source": []
  },
  {
   "cell_type": "code",
   "execution_count": 74,
   "id": "a0835b8d",
   "metadata": {},
   "outputs": [
    {
     "name": "stdout",
     "output_type": "stream",
     "text": [
      "['Laptop', 'Shoes']\n"
     ]
    }
   ],
   "source": [
    "# Task-7 Print the item that are important to buy from the Shopping List\n",
    "# Print \"Laptop\" and \"shoes\"\n",
    "\n",
    "print (Shopping_list[1:3])"
   ]
  },
  {
   "cell_type": "code",
   "execution_count": null,
   "id": "9a8ca1d4",
   "metadata": {},
   "outputs": [],
   "source": []
  },
  {
   "cell_type": "code",
   "execution_count": 76,
   "id": "f2268cf5",
   "metadata": {},
   "outputs": [
    {
     "data": {
      "text/plain": [
       "['Watch', 'Laptop', 'Shoes', 'Notebook', 'Clothes', 'Football']"
      ]
     },
     "execution_count": 76,
     "metadata": {},
     "output_type": "execute_result"
    }
   ],
   "source": [
    "# Task-8 Change the item from the shopping_list\n",
    "# Instead of \"Pen\" I want to buy \"Notebook\" let's change the item stored in the list.\n",
    "\n",
    "Shopping_list [-3] = 'Notebook'\n",
    "Shopping_list"
   ]
  },
  {
   "cell_type": "code",
   "execution_count": null,
   "id": "b3805190",
   "metadata": {},
   "outputs": [],
   "source": []
  },
  {
   "cell_type": "code",
   "execution_count": 81,
   "id": "3847fbe5",
   "metadata": {},
   "outputs": [
    {
     "data": {
      "text/plain": [
       "['Watch', 'Laptop', 'Shoes', 'Football']"
      ]
     },
     "execution_count": 81,
     "metadata": {},
     "output_type": "execute_result"
    }
   ],
   "source": [
    "# Task-9 Delete the item from the shopping_list that is not required\n",
    "# Let's delete items that are unimportant, such as; I don't want to buy Clothes, let's delete it.\n",
    "\n",
    "del(Shopping_list[-2])\n",
    "Shopping_list"
   ]
  },
  {
   "cell_type": "code",
   "execution_count": null,
   "id": "9462b6d1",
   "metadata": {},
   "outputs": [],
   "source": []
  },
  {
   "cell_type": "code",
   "execution_count": 82,
   "id": "37c72b5a",
   "metadata": {},
   "outputs": [
    {
     "name": "stdout",
     "output_type": "stream",
     "text": [
      "Shopping list: ['Watch', 'Laptop', 'Shoes', 'Football']\n"
     ]
    }
   ],
   "source": [
    "# Task-10 Print the shopping list\n",
    "# We are ready with our shopping list.\n",
    "\n",
    "print ('Shopping list:', Shopping_list)"
   ]
  },
  {
   "cell_type": "code",
   "execution_count": null,
   "id": "4770cf41",
   "metadata": {},
   "outputs": [],
   "source": []
  },
  {
   "cell_type": "code",
   "execution_count": null,
   "id": "4394a3a2",
   "metadata": {},
   "outputs": [],
   "source": []
  }
 ],
 "metadata": {
  "kernelspec": {
   "display_name": "Python 3 (ipykernel)",
   "language": "python",
   "name": "python3"
  },
  "language_info": {
   "codemirror_mode": {
    "name": "ipython",
    "version": 3
   },
   "file_extension": ".py",
   "mimetype": "text/x-python",
   "name": "python",
   "nbconvert_exporter": "python",
   "pygments_lexer": "ipython3",
   "version": "3.11.5"
  }
 },
 "nbformat": 4,
 "nbformat_minor": 5
}
