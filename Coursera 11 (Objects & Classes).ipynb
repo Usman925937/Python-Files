{
 "cells": [
  {
   "cell_type": "code",
   "execution_count": null,
   "id": "f118aeeb",
   "metadata": {},
   "outputs": [],
   "source": [
    "# Objects & Classes"
   ]
  },
  {
   "cell_type": "code",
   "execution_count": null,
   "id": "6f20b5c5",
   "metadata": {},
   "outputs": [],
   "source": [
    "# Objects\n",
    "\n",
    "Built In Types in Python\n",
    "\n",
    "int      1,2,3,4,5 etc\n",
    "float    2.16, 3.14, 4.96\n",
    "string   'a', 'abc', 'the cat is white'\n",
    "list     [1,2,'abc']\n",
    "dict     {'dog':1, 'cat':2}  # keys and values\n",
    "Bool     False, True\n",
    "\n",
    "# list have [] brackets\n",
    "# While dic has {} brackets\n",
    "\n",
    "Each type is an object\n"
   ]
  },
  {
   "cell_type": "code",
   "execution_count": 13,
   "id": "0b9c411f",
   "metadata": {},
   "outputs": [
    {
     "data": {
      "text/plain": [
       "list"
      ]
     },
     "execution_count": 13,
     "metadata": {},
     "output_type": "execute_result"
    }
   ],
   "source": [
    "type([1,'abc'])"
   ]
  },
  {
   "cell_type": "code",
   "execution_count": 10,
   "id": "0d8351c4",
   "metadata": {},
   "outputs": [
    {
     "data": {
      "text/plain": [
       "int"
      ]
     },
     "execution_count": 10,
     "metadata": {},
     "output_type": "execute_result"
    }
   ],
   "source": [
    "type(1)"
   ]
  },
  {
   "cell_type": "code",
   "execution_count": 11,
   "id": "57e209bb",
   "metadata": {},
   "outputs": [
    {
     "data": {
      "text/plain": [
       "str"
      ]
     },
     "execution_count": 11,
     "metadata": {},
     "output_type": "execute_result"
    }
   ],
   "source": [
    "type('Usman')"
   ]
  },
  {
   "cell_type": "code",
   "execution_count": 12,
   "id": "789b4ab5",
   "metadata": {},
   "outputs": [
    {
     "data": {
      "text/plain": [
       "dict"
      ]
     },
     "execution_count": 12,
     "metadata": {},
     "output_type": "execute_result"
    }
   ],
   "source": [
    "type({'Usman': 4,'Ehtesham': 4})"
   ]
  },
  {
   "cell_type": "code",
   "execution_count": 21,
   "id": "c3f35345",
   "metadata": {},
   "outputs": [],
   "source": [
    "# Methods\n",
    "\n",
    "Methods are functions that allow you to interact/ do changes with the data in an object.\n",
    "\n",
    "For example, if you have a class called \"Car\", you might have methods for turning the car on, turning it off, and driving it. \n",
    "These methods would allow you to interact with the data in a Car object, such as its speed, direction, and whether or not it \n",
    "is turned on.\n",
    "\n",
    "Another e.g would be sort or reverse\n"
   ]
  },
  {
   "cell_type": "code",
   "execution_count": 18,
   "id": "50bf9dd2",
   "metadata": {},
   "outputs": [
    {
     "name": "stdout",
     "output_type": "stream",
     "text": [
      "[2, 5, 6, 6, 8, 9, 9, 10, 10]\n"
     ]
    }
   ],
   "source": [
    "Ratings = [10,9,6,5,10,8,9,6,2]\n",
    "Ratings.sort()\n",
    "\n",
    "print(Ratings)"
   ]
  },
  {
   "cell_type": "code",
   "execution_count": 19,
   "id": "f5a4e70c",
   "metadata": {},
   "outputs": [
    {
     "name": "stdout",
     "output_type": "stream",
     "text": [
      "[10, 10, 9, 9, 8, 6, 6, 5, 2]\n"
     ]
    }
   ],
   "source": [
    "Ratings.reverse()\n",
    "\n",
    "print(Ratings)"
   ]
  },
  {
   "cell_type": "code",
   "execution_count": null,
   "id": "f291fcaf",
   "metadata": {},
   "outputs": [],
   "source": []
  },
  {
   "cell_type": "code",
   "execution_count": 23,
   "id": "d90b33c1",
   "metadata": {},
   "outputs": [],
   "source": [
    "# Creating Your Own Types\n",
    "# Defining Classes"
   ]
  },
  {
   "cell_type": "code",
   "execution_count": 3,
   "id": "66f65d40",
   "metadata": {},
   "outputs": [],
   "source": [
    "# Create a Class Circle\n",
    "\n",
    "class Circle(object):                      #{Define your Class\n",
    "    def __init__ (self,radius,color):         # Defining parameters/attributes or defining a new class\n",
    "        self.radius = radius;              #{Data Attributes used to initialize each instance of a class\n",
    "        self.color = color;\n",
    "    \n",
    "    \n",
    "# In Python, all classes are subclasses of the object class,  which provides some default functionality. \n",
    "# By inheriting from object, the Circle class gains access to methods like __init__ (used to initialize the object) \n",
    "# and __str__ (used to define how the object is printed).\n",
    "    "
   ]
  },
  {
   "cell_type": "code",
   "execution_count": null,
   "id": "c8eb311e",
   "metadata": {},
   "outputs": [],
   "source": [
    "init = Special function/constructor that tells python that you are making a new class"
   ]
  },
  {
   "cell_type": "code",
   "execution_count": 78,
   "id": "296ff66e",
   "metadata": {},
   "outputs": [],
   "source": [
    "# Create a Class Rectangle\n",
    "\n",
    "class Rectangle(object):\n",
    "    def __init__ (self, color, height, width):\n",
    "        self.color = color;\n",
    "        self.height = height;\n",
    "        self.width = width;"
   ]
  },
  {
   "cell_type": "code",
   "execution_count": 49,
   "id": "a1a1ab32",
   "metadata": {},
   "outputs": [
    {
     "name": "stdout",
     "output_type": "stream",
     "text": [
      "red\n"
     ]
    }
   ],
   "source": [
    "# Create an instance for Class Circle (that is C1)\n",
    "\n",
    "C1 = Circle(10, 'red')\n",
    "\n",
    "print (C1.color)"
   ]
  },
  {
   "cell_type": "code",
   "execution_count": 50,
   "id": "5ba9f040",
   "metadata": {},
   "outputs": [
    {
     "name": "stdout",
     "output_type": "stream",
     "text": [
      "blue\n"
     ]
    }
   ],
   "source": [
    "# We Can Also Change/Set the Data Attribute Directly\n",
    "\n",
    "C1.color = 'blue'\n",
    "\n",
    "print(C1.color)"
   ]
  },
  {
   "cell_type": "code",
   "execution_count": 34,
   "id": "7107abb2",
   "metadata": {},
   "outputs": [],
   "source": [
    "# Methods\n",
    "\n",
    "Methods are functions that interact and change the data attributes"
   ]
  },
  {
   "cell_type": "code",
   "execution_count": 63,
   "id": "6893e9b9",
   "metadata": {},
   "outputs": [
    {
     "data": {
      "text/plain": [
       "18"
      ]
     },
     "execution_count": 63,
     "metadata": {},
     "output_type": "execute_result"
    }
   ],
   "source": [
    "# Scenerio: Circle size that increased which means radius is also increased. (From 10 to 18)\n",
    "\n",
    "# To do this write\n",
    "\n",
    "def add_radius(self,r):\n",
    "    self.radius = self.radius + r\n",
    "\n",
    "C1.add_radius(8)\n"
   ]
  },
  {
   "cell_type": "code",
   "execution_count": 71,
   "id": "8c273867",
   "metadata": {},
   "outputs": [
    {
     "data": {
      "text/plain": [
       "12"
      ]
     },
     "execution_count": 71,
     "metadata": {},
     "output_type": "execute_result"
    }
   ],
   "source": [
    "# First Creating an Instance for Rectangle\n",
    "\n",
    "R1 = Rectangle('blue', 12, 9)\n",
    "R1.height"
   ]
  },
  {
   "cell_type": "code",
   "execution_count": 75,
   "id": "08b27702",
   "metadata": {},
   "outputs": [
    {
     "name": "stdout",
     "output_type": "stream",
     "text": [
      "blue 12 9\n"
     ]
    }
   ],
   "source": [
    "print(R1.color , R1.height, R1.width)"
   ]
  },
  {
   "cell_type": "code",
   "execution_count": 15,
   "id": "65d9711e",
   "metadata": {},
   "outputs": [],
   "source": [
    "# We Can Also add Default Values for Parameters\n",
    "\n",
    "class Triangle(object):\n",
    "    def __init__(self, vertices = 3, sum_of_angles = 180):      # Default Values for Parameter\n",
    "        self.vertices = vertices;\n",
    "        self.sum_of_angles = sum_of_angles;\n"
   ]
  },
  {
   "cell_type": "code",
   "execution_count": 16,
   "id": "ca28c11f",
   "metadata": {},
   "outputs": [
    {
     "name": "stdout",
     "output_type": "stream",
     "text": [
      "3 180\n"
     ]
    }
   ],
   "source": [
    "# Creating an Instance for Triangle\n",
    "T1 = Triangle()\n",
    "print(T1.vertices, T1.sum_of_angles)"
   ]
  },
  {
   "cell_type": "code",
   "execution_count": null,
   "id": "065d9519",
   "metadata": {},
   "outputs": [],
   "source": []
  },
  {
   "cell_type": "code",
   "execution_count": null,
   "id": "6fee06cd",
   "metadata": {},
   "outputs": [],
   "source": [
    "# def drawCircle(self):\n",
    "Through this we can draw an actual circle"
   ]
  },
  {
   "cell_type": "markdown",
   "id": "2faccbd3",
   "metadata": {},
   "source": [
    "# To do (Missing)"
   ]
  },
  {
   "cell_type": "code",
   "execution_count": null,
   "id": "4f27e5d1",
   "metadata": {},
   "outputs": [],
   "source": []
  },
  {
   "cell_type": "code",
   "execution_count": null,
   "id": "6a34dbe7",
   "metadata": {},
   "outputs": [],
   "source": []
  },
  {
   "cell_type": "code",
   "execution_count": null,
   "id": "67eeb9aa",
   "metadata": {},
   "outputs": [],
   "source": [
    "# HANDS ON LAB"
   ]
  },
  {
   "cell_type": "code",
   "execution_count": null,
   "id": "715f7ec8",
   "metadata": {},
   "outputs": [],
   "source": [
    "# Scenario: Car dealership's inventory management system"
   ]
  },
  {
   "cell_type": "markdown",
   "id": "c3578e1d",
   "metadata": {},
   "source": [
    "Task-1. You are tasked with creating a Python program to represent vehicles using a class. Each car should have attributes for maximum speed and mileage.\n"
   ]
  },
  {
   "cell_type": "code",
   "execution_count": 23,
   "id": "8485c466",
   "metadata": {},
   "outputs": [],
   "source": [
    "class Dealer(object):\n",
    "      def __init__(self, max_speed, mileage):\n",
    "          self.max_speed = max_speed;\n",
    "          self.mileage = mileage;"
   ]
  },
  {
   "cell_type": "markdown",
   "id": "bc8e3d27",
   "metadata": {},
   "source": [
    "Task-2. Update the class with the default color for all vehicles,\" white\".¶"
   ]
  },
  {
   "cell_type": "code",
   "execution_count": 51,
   "id": "2b7774bf",
   "metadata": {},
   "outputs": [
    {
     "data": {
      "text/plain": [
       "'white'"
      ]
     },
     "execution_count": 51,
     "metadata": {},
     "output_type": "execute_result"
    }
   ],
   "source": [
    "class Dealer(object):\n",
    "      def __init__(self, max_speed, mileage, color):\n",
    "          self.max_speed = max_speed;\n",
    "          self.mileage = mileage;\n",
    "\n",
    "D1 = Dealer(120, 18, 'grey')\n",
    "D1.color = 'white'\n",
    "\n",
    "D1.color"
   ]
  },
  {
   "cell_type": "markdown",
   "id": "331b0125",
   "metadata": {},
   "source": [
    "OR"
   ]
  },
  {
   "cell_type": "code",
   "execution_count": 52,
   "id": "5e000769",
   "metadata": {},
   "outputs": [],
   "source": [
    "# IMP (right way)\n",
    "\n",
    "class Dealer(object):\n",
    "    color = 'white'\n",
    "    \n",
    "    def __init__(self, max_speed, mileage):\n",
    "        self.max_speed = max_speed;\n",
    "        self.mileage = mileage;\n",
    "    "
   ]
  },
  {
   "cell_type": "markdown",
   "id": "8b85d5d1",
   "metadata": {},
   "source": [
    "Task-3. Additionally, you need to create methods in the Vehicle class to assign seating capacity to a vehicle"
   ]
  },
  {
   "cell_type": "code",
   "execution_count": 53,
   "id": "b7ee2948",
   "metadata": {},
   "outputs": [
    {
     "name": "stdout",
     "output_type": "stream",
     "text": [
      "25\n"
     ]
    }
   ],
   "source": [
    "class Dealer(object):\n",
    "    color = 'white'\n",
    "    \n",
    "    def __init__(self, max_speed, mileage, seating_capacity):\n",
    "        self.max_speed = max_speed;\n",
    "        self.mileage = mileage;\n",
    "        self.seating_capacity = seating_capacity;\n",
    "        \n",
    "D1.seating_capacity = 25\n",
    "print (D1.seating_capacity)\n",
    "        "
   ]
  },
  {
   "cell_type": "markdown",
   "id": "a14c9f34",
   "metadata": {},
   "source": [
    "Task-4. Create a method to display all the properties of an object of the class"
   ]
  },
  {
   "cell_type": "code",
   "execution_count": 22,
   "id": "0178e7ff",
   "metadata": {},
   "outputs": [],
   "source": [
    "class Dealer(object):\n",
    "   \n",
    "    def __init__(self, max_speed, mileage, color, seating_capacity):\n",
    "        self.max_speed = max_speed;\n",
    "        self.mileage = mileage;\n",
    "        self.color = color\n",
    "        self.seating_capacity = seating_capacity;\n",
    "    def properties(self):\n",
    "        print('Max Speed =', self.max_speed)\n",
    "        print('Mileage =', self.mileage)\n",
    "        print('Color =', self.color)\n",
    "        print('Seating Capacity =', self.seating_capacity)\n",
    "        "
   ]
  },
  {
   "cell_type": "code",
   "execution_count": 24,
   "id": "6704d033",
   "metadata": {},
   "outputs": [],
   "source": [
    "D1 = Dealer(100,75,'white', 20)"
   ]
  },
  {
   "cell_type": "code",
   "execution_count": 25,
   "id": "9b55d2db",
   "metadata": {},
   "outputs": [
    {
     "name": "stdout",
     "output_type": "stream",
     "text": [
      "Max Speed = 100\n",
      "Mileage = 75\n",
      "Color = white\n",
      "Seating Capacity = 20\n"
     ]
    }
   ],
   "source": [
    "D1.properties()"
   ]
  },
  {
   "cell_type": "code",
   "execution_count": null,
   "id": "2e9cad5d",
   "metadata": {},
   "outputs": [],
   "source": []
  }
 ],
 "metadata": {
  "kernelspec": {
   "display_name": "Python 3 (ipykernel)",
   "language": "python",
   "name": "python3"
  },
  "language_info": {
   "codemirror_mode": {
    "name": "ipython",
    "version": 3
   },
   "file_extension": ".py",
   "mimetype": "text/x-python",
   "name": "python",
   "nbconvert_exporter": "python",
   "pygments_lexer": "ipython3",
   "version": "3.11.5"
  }
 },
 "nbformat": 4,
 "nbformat_minor": 5
}
