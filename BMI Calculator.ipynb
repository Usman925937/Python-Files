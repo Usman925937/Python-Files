{
 "cells": [
  {
   "cell_type": "markdown",
   "id": "3f5c2129",
   "metadata": {},
   "source": [
    "### BMI CALCULATOR"
   ]
  },
  {
   "cell_type": "code",
   "execution_count": 34,
   "id": "6ad120f8",
   "metadata": {},
   "outputs": [
    {
     "name": "stdout",
     "output_type": "stream",
     "text": [
      "Enter your name: Usman\n",
      "Enter your weight in pounds: 216\n",
      "Enter your height in inches: 69\n",
      "BMI:  31.89413988657845\n",
      "Usman, you are severly-obese.\n"
     ]
    }
   ],
   "source": [
    "name = input(\"Enter your name: \")\n",
    "\n",
    "weight = int(input(\"Enter your weight in pounds: \"))\n",
    "\n",
    "height = int(input(\"Enter your height in inches: \"))\n",
    "\n",
    "BMI = (weight * 703) / (height * height)\n",
    "\n",
    "print(\"BMI: \", BMI)\n",
    "\n",
    "if BMI>0:\n",
    "    if(BMI<18.5):\n",
    "        print(name +\", you are underweight.\")\n",
    "    elif(BMI<=24.9):\n",
    "        print(name +\", you are normalweight.\")\n",
    "    elif(BMI<=29.9):\n",
    "        print(name +\", you are obese.\")\n",
    "    elif(BMI<=34.9):\n",
    "        print(name +\", you are severly-obese.\")\n",
    "    elif(BMI>=40):\n",
    "        print(name +\", you are morbidly-obese.\")\n",
    "else:\n",
    "    print(\"Enter valid input\")"
   ]
  },
  {
   "cell_type": "markdown",
   "id": "f00be6ee",
   "metadata": {},
   "source": [
    "### KG TO POUNDS"
   ]
  },
  {
   "cell_type": "code",
   "execution_count": 33,
   "id": "502bef52",
   "metadata": {},
   "outputs": [
    {
     "name": "stdout",
     "output_type": "stream",
     "text": [
      "Enter your weight in Kgs: 98\n",
      "215.60000000000002\n"
     ]
    }
   ],
   "source": [
    "weight_Kg = int(input(\"Enter your weight in Kgs: \"))\n",
    "weight_in_pounds = weight_Kg * 2.2\n",
    "print(weight_in_pounds)"
   ]
  },
  {
   "cell_type": "markdown",
   "id": "73035b1b",
   "metadata": {},
   "source": [
    "### FEET TO INCHES"
   ]
  },
  {
   "cell_type": "code",
   "execution_count": 51,
   "id": "c398316d",
   "metadata": {},
   "outputs": [
    {
     "name": "stdout",
     "output_type": "stream",
     "text": [
      "Enter your height in feet, such as 5: 5\n",
      "Enter your height's inch such as 9: 9\n",
      "69\n"
     ]
    }
   ],
   "source": [
    "feet = int(input(\"Enter your height in feet, such as 5: \"))\n",
    "inches = int(input(\"Enter your height's inch such as 9: \"))\n",
    "height_in_inches = (feet * 12) + inches\n",
    "print(height_in_inches)"
   ]
  },
  {
   "cell_type": "code",
   "execution_count": null,
   "id": "a1d74e30",
   "metadata": {},
   "outputs": [],
   "source": []
  }
 ],
 "metadata": {
  "kernelspec": {
   "display_name": "Python 3 (ipykernel)",
   "language": "python",
   "name": "python3"
  },
  "language_info": {
   "codemirror_mode": {
    "name": "ipython",
    "version": 3
   },
   "file_extension": ".py",
   "mimetype": "text/x-python",
   "name": "python",
   "nbconvert_exporter": "python",
   "pygments_lexer": "ipython3",
   "version": "3.11.5"
  }
 },
 "nbformat": 4,
 "nbformat_minor": 5
}
