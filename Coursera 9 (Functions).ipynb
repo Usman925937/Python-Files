{
 "cells": [
  {
   "cell_type": "code",
   "execution_count": null,
   "id": "c508f3fb",
   "metadata": {},
   "outputs": [],
   "source": [
    "# FUNCTIONS\n",
    "\n",
    "# Block of Reusable code"
   ]
  },
  {
   "cell_type": "code",
   "execution_count": 28,
   "id": "1bf4ee92",
   "metadata": {},
   "outputs": [
    {
     "name": "stdout",
     "output_type": "stream",
     "text": [
      "Happy birthday Ehtesham\n",
      "You are old\n",
      "Happy birthday to you\n"
     ]
    }
   ],
   "source": [
    "# Function Example          # Youtube\n",
    "\n",
    "def happy_birthday(name):\n",
    "    print(f'Happy birthday {name}')\n",
    "    print('You are old')\n",
    "    print(f'Happy birthday to you')\n",
    "    \n",
    "happy_birthday('Ehtesham')\n",
    "\n",
    "# When you prefix a string with f (or F), Python will interpret expressions within curly braces {} \n",
    "# and replace them with their values.\n",
    "    "
   ]
  },
  {
   "cell_type": "code",
   "execution_count": 37,
   "id": "6d31ecf8",
   "metadata": {},
   "outputs": [
    {
     "name": "stdout",
     "output_type": "stream",
     "text": [
      "Happy birthday Ehtesham\n",
      "You are 20 years old\n",
      "Happy birthday to you\n",
      "\n"
     ]
    }
   ],
   "source": [
    "def happy_birthday(name,age):\n",
    "    print(f'Happy birthday {name}')\n",
    "    print(f'You are {age} years old')\n",
    "    print(f'Happy birthday to you')\n",
    "    \n",
    "happy_birthday('Ehtesham',20)"
   ]
  },
  {
   "cell_type": "code",
   "execution_count": 43,
   "id": "82692998",
   "metadata": {},
   "outputs": [
    {
     "name": "stdout",
     "output_type": "stream",
     "text": [
      "Happy birthday Ehtesham\n",
      "You are 20 years old\n",
      "Happy birthday to you\n",
      "Happy birthday Shahrukh\n",
      "You are 21 years old\n",
      "Happy birthday to you\n",
      "Happy birthday Shahmir\n",
      "You are 20 years old\n",
      "Happy birthday to you\n",
      "Happy birthday Hamza\n",
      "You are 21 years old\n",
      "Happy birthday to you\n"
     ]
    }
   ],
   "source": [
    "def happy_birthday(name,age):\n",
    "    print(f'Happy birthday {name}')\n",
    "    print(f'You are {age} years old')\n",
    "    print(f'Happy birthday to you')\n",
    "    \n",
    "happy_birthday('Ehtesham',20)\n",
    "happy_birthday('Shahrukh',21)\n",
    "happy_birthday('Shahmir',20)\n",
    "happy_birthday('Hamza',21)"
   ]
  },
  {
   "cell_type": "code",
   "execution_count": 49,
   "id": "62702079",
   "metadata": {},
   "outputs": [
    {
     "name": "stdout",
     "output_type": "stream",
     "text": [
      "Happy birthday Ehtesham\n",
      "You are 20 years old\n",
      "Happy birthday to you\n",
      "\n",
      "Happy birthday Shahrukh\n",
      "You are 21 years old\n",
      "Happy birthday to you\n",
      "\n",
      "Happy birthday Shahmir\n",
      "You are 20 years old\n",
      "Happy birthday to you\n",
      "\n",
      "Happy birthday Hamza\n",
      "You are 21 years old\n",
      "Happy birthday to you\n",
      "\n"
     ]
    }
   ],
   "source": [
    "def happy_birthday(name,age):\n",
    "    print(f'Happy birthday {name}')\n",
    "    print(f'You are {age} years old')\n",
    "    print(f'Happy birthday to you')\n",
    "    print()\n",
    "    \n",
    "happy_birthday('Ehtesham',20)\n",
    "happy_birthday('Shahrukh',21)\n",
    "happy_birthday('Shahmir',20)\n",
    "happy_birthday('Hamza',21)\n",
    "\n",
    "#Because of space in result it looks much better"
   ]
  },
  {
   "cell_type": "code",
   "execution_count": 48,
   "id": "79a64569",
   "metadata": {},
   "outputs": [
    {
     "name": "stdout",
     "output_type": "stream",
     "text": [
      "3\n",
      "5\n",
      "104\n",
      "2.1315789473684212\n"
     ]
    }
   ],
   "source": [
    "# return\n",
    "\n",
    "def add(x,y):\n",
    "    z=x+y\n",
    "    return z\n",
    "\n",
    "def subtract(x,y):\n",
    "    z=x-y\n",
    "    return z\n",
    "\n",
    "def multiply(x,y):\n",
    "    z=x*y\n",
    "    return z\n",
    "\n",
    "def divide(x,y):\n",
    "    z=x/y\n",
    "    return z\n",
    "\n",
    "print(add(1,2))\n",
    "print(subtract(9,4))\n",
    "print(multiply(13,8))\n",
    "print(divide(81,38))"
   ]
  },
  {
   "cell_type": "code",
   "execution_count": 60,
   "id": "8077dd14",
   "metadata": {},
   "outputs": [
    {
     "name": "stdout",
     "output_type": "stream",
     "text": [
      "Muhammad Ehtasham Saqib\n"
     ]
    }
   ],
   "source": [
    "def create_name(first_name, middle_name, last_name):\n",
    "    first_name = first_name.capitalize()\n",
    "    middle_name = middle_name.capitalize()\n",
    "    last_name = last_name.capitalize()\n",
    "    return first_name + ' ' + middle_name + ' ' + last_name\n",
    "    \n",
    "full_name = create_name('Muhammad', 'Ehtasham', 'Saqib')\n",
    "print(full_name)"
   ]
  },
  {
   "cell_type": "code",
   "execution_count": null,
   "id": "c3ae0e16",
   "metadata": {},
   "outputs": [],
   "source": []
  },
  {
   "cell_type": "code",
   "execution_count": null,
   "id": "9d6c9667",
   "metadata": {},
   "outputs": [],
   "source": [
    "# FUNCTIONS    # Coursera"
   ]
  },
  {
   "cell_type": "code",
   "execution_count": null,
   "id": "58718690",
   "metadata": {},
   "outputs": [],
   "source": [
    "# Built In Functions"
   ]
  },
  {
   "cell_type": "code",
   "execution_count": 5,
   "id": "933a4c19",
   "metadata": {},
   "outputs": [
    {
     "name": "stdout",
     "output_type": "stream",
     "text": [
      "8\n"
     ]
    }
   ],
   "source": [
    "album_ratings = [10.0, 8.5, 9.5, 7.0, 7.0, 9.5, 9.0, 9.5]\n",
    "L = len(album_ratings)\n",
    "print(L)"
   ]
  },
  {
   "cell_type": "code",
   "execution_count": 7,
   "id": "4f42b7f6",
   "metadata": {},
   "outputs": [
    {
     "name": "stdout",
     "output_type": "stream",
     "text": [
      "70.0\n"
     ]
    }
   ],
   "source": [
    "S = sum(album_ratings)\n",
    "print(S)"
   ]
  },
  {
   "cell_type": "code",
   "execution_count": 10,
   "id": "c625dc76",
   "metadata": {},
   "outputs": [],
   "source": [
    "# Sorted Vs Sort\n",
    "\n",
    "# In sorted a new list is creating in which values are sorted, the original list remains the same\n",
    "# In sort, the values of the original list are sort. No other list is created"
   ]
  },
  {
   "cell_type": "code",
   "execution_count": 14,
   "id": "470b155d",
   "metadata": {},
   "outputs": [
    {
     "name": "stdout",
     "output_type": "stream",
     "text": [
      "[10.0, 8.5, 9.5, 7.0, 7.0, 9.5, 9.0, 9.5]\n",
      "[7.0, 7.0, 8.5, 9.0, 9.5, 9.5, 9.5, 10.0]\n"
     ]
    }
   ],
   "source": [
    "# Sorted\n",
    "\n",
    "album_ratings = [10.0, 8.5, 9.5, 7.0, 7.0, 9.5, 9.0, 9.5]\n",
    "sorted_album_ratings = sorted(album_ratings)\n",
    "\n",
    "print(album_ratings)        # Here, original list doesnot change\n",
    "print(sorted_album_ratings)"
   ]
  },
  {
   "cell_type": "code",
   "execution_count": 15,
   "id": "2b06ddb5",
   "metadata": {},
   "outputs": [
    {
     "name": "stdout",
     "output_type": "stream",
     "text": [
      "[7.0, 7.0, 8.5, 9.0, 9.5, 9.5, 9.5, 10.0]\n"
     ]
    }
   ],
   "source": [
    "# Sort\n",
    "\n",
    "album_ratings = [10.0, 8.5, 9.5, 7.0, 7.0, 9.5, 9.0, 9.5]\n",
    "album_ratings.sort()\n",
    "\n",
    "print(album_ratings)   # Orginal List Change"
   ]
  },
  {
   "cell_type": "code",
   "execution_count": null,
   "id": "e4ce1fa8",
   "metadata": {},
   "outputs": [],
   "source": []
  },
  {
   "cell_type": "code",
   "execution_count": 16,
   "id": "0efa992b",
   "metadata": {},
   "outputs": [],
   "source": [
    "# Making Functions"
   ]
  },
  {
   "cell_type": "code",
   "execution_count": 3,
   "id": "c3f1b1fd",
   "metadata": {},
   "outputs": [
    {
     "data": {
      "text/plain": [
       "6"
      ]
     },
     "execution_count": 3,
     "metadata": {},
     "output_type": "execute_result"
    }
   ],
   "source": [
    "# Creating Function\n",
    "\n",
    "def add(a):\n",
    "    b = a+1\n",
    "    return b\n",
    "add(5)"
   ]
  },
  {
   "cell_type": "code",
   "execution_count": 9,
   "id": "e0ea3b76",
   "metadata": {},
   "outputs": [
    {
     "name": "stdout",
     "output_type": "stream",
     "text": [
      "c = 11\n",
      "d = 100\n"
     ]
    }
   ],
   "source": [
    "# Using previous function\n",
    "\n",
    "c=add(10)\n",
    "print('c =', c)\n",
    "\n",
    "d=add(99)\n",
    "print('d =', d)"
   ]
  },
  {
   "cell_type": "code",
   "execution_count": 11,
   "id": "afd3de26",
   "metadata": {},
   "outputs": [
    {
     "name": "stdout",
     "output_type": "stream",
     "text": [
      "Help on function add in module __main__:\n",
      "\n",
      "add(a)\n",
      "\n"
     ]
    }
   ],
   "source": [
    "# Optional\n",
    "help(add)     #Tells what this function do/ Documentation String"
   ]
  },
  {
   "cell_type": "code",
   "execution_count": 22,
   "id": "4875af06",
   "metadata": {},
   "outputs": [
    {
     "data": {
      "text/plain": [
       "' Michael Jackson  Michael Jackson '"
      ]
     },
     "execution_count": 22,
     "metadata": {},
     "output_type": "execute_result"
    }
   ],
   "source": [
    "# Multiple Parameters\n",
    "# A function can have multiple parameters\n",
    "\n",
    "def Mult (a,b):\n",
    "    c = a*b\n",
    "    return c\n",
    "\n",
    "Mult(2,3)\n",
    "\n",
    "# Using this Function\n",
    "Mult(53,9)\n",
    "\n",
    "Mult(9,3.14)\n",
    "\n",
    "Mult(2, ' Michael Jackson ')     # This is because the multiplication symbol can also mean, repeat a sequence"
   ]
  },
  {
   "cell_type": "code",
   "execution_count": 42,
   "id": "78381e4a",
   "metadata": {},
   "outputs": [
    {
     "name": "stdout",
     "output_type": "stream",
     "text": [
      "Michael Jackson\n"
     ]
    }
   ],
   "source": [
    "# Some functions doesnot have a return statement\n",
    "\n",
    "def MJ():\n",
    "    print('Michael Jackson')     # So, it will only return the print() one i.e Michael Jackson\n",
    "    \n",
    "\n",
    "MJ()"
   ]
  },
  {
   "cell_type": "code",
   "execution_count": 51,
   "id": "7215ed6c",
   "metadata": {},
   "outputs": [
    {
     "name": "stdout",
     "output_type": "stream",
     "text": [
      "None\n"
     ]
    }
   ],
   "source": [
    "# Python doesnot allow a function to have an empty body so we use pass to fulfill the body requirement \n",
    "\n",
    "def NoWork():\n",
    "    pass\n",
    "print(NoWork())"
   ]
  },
  {
   "cell_type": "code",
   "execution_count": null,
   "id": "8df9bc4d",
   "metadata": {},
   "outputs": [],
   "source": []
  }
 ],
 "metadata": {
  "kernelspec": {
   "display_name": "Python 3 (ipykernel)",
   "language": "python",
   "name": "python3"
  },
  "language_info": {
   "codemirror_mode": {
    "name": "ipython",
    "version": 3
   },
   "file_extension": ".py",
   "mimetype": "text/x-python",
   "name": "python",
   "nbconvert_exporter": "python",
   "pygments_lexer": "ipython3",
   "version": "3.11.5"
  }
 },
 "nbformat": 4,
 "nbformat_minor": 5
}
