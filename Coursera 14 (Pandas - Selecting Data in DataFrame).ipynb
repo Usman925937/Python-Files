{
 "cells": [
  {
   "cell_type": "markdown",
   "id": "241326d2",
   "metadata": {},
   "source": [
    "# Pandas: DataFrame and Series"
   ]
  },
  {
   "cell_type": "markdown",
   "id": "be0a3295",
   "metadata": {},
   "source": [
    "###### Pandas is a popular library for data analysis built on top of the Python programming language. Pandas generally provide two data structures for manipulating data, They are:\n",
    "1) DataFrame\n",
    "2) Series"
   ]
  },
  {
   "cell_type": "markdown",
   "id": "04ce15f7",
   "metadata": {},
   "source": [
    "###### A DataFrame is a two-dimensional data structure, i.e., data is aligned in a tabular fashion in rows and columns.\n",
    "A Pandas DataFrame will be created by loading the datasets from existing storage.\n",
    "\n",
    "Storage can be SQL Database, CSV file, Excel file, etc.\n",
    "\n",
    "It can also be created from the lists, dictionaries, and from a list of dictionaries."
   ]
  },
  {
   "cell_type": "markdown",
   "id": "199ff413",
   "metadata": {},
   "source": [
    "###### Series represents a one-dimensional array of indexed data. It has two main components :\n",
    "\n",
    "An array of actual data.\n",
    "\n",
    "An associated array of indexes or data label"
   ]
  },
  {
   "cell_type": "code",
   "execution_count": 20,
   "id": "2ab2ab32",
   "metadata": {},
   "outputs": [],
   "source": [
    "# Import Pandas Library\n",
    "\n",
    "import pandas as pd     # we can also write import pandas as bananas (Wherever we wrote pd now we will have to write bananas)"
   ]
  },
  {
   "cell_type": "code",
   "execution_count": 21,
   "id": "7c8c29a0",
   "metadata": {},
   "outputs": [
    {
     "name": "stdout",
     "output_type": "stream",
     "text": [
      "   Name  ID       Department  Salary\n",
      "0  Rose   1  Architect Group  100000\n",
      "1  John   2   Software Group   80000\n",
      "2  Jane   3      Design Team   50000\n",
      "3  Mary   4   Infrastructure   60000\n"
     ]
    }
   ],
   "source": [
    "# Define a dictionary 'x'\n",
    "\n",
    "x = {'Name': ['Rose', 'John', 'Jane', 'Mary'], 'ID': [1,2,3,4], 'Department': ['Architect Group', 'Software Group', 'Design Team', 'Infrastructure'], 'Salary': [100000, 80000, 50000, 60000]}\n",
    "x\n",
    "\n",
    "# Casting dictionary to a DataFrame\n",
    "\n",
    "df = pd.DataFrame(x)\n",
    "\n",
    "# Checking Output\n",
    "print(df)"
   ]
  },
  {
   "cell_type": "markdown",
   "id": "45ca3505",
   "metadata": {},
   "source": [
    "### Column Selection"
   ]
  },
  {
   "cell_type": "markdown",
   "id": "3ed55483",
   "metadata": {},
   "source": [
    "###### To view the column as a DataFrame, just use two brackets:"
   ]
  },
  {
   "cell_type": "code",
   "execution_count": 22,
   "id": "b20dfdf0",
   "metadata": {},
   "outputs": [
    {
     "data": {
      "text/html": [
       "<div>\n",
       "<style scoped>\n",
       "    .dataframe tbody tr th:only-of-type {\n",
       "        vertical-align: middle;\n",
       "    }\n",
       "\n",
       "    .dataframe tbody tr th {\n",
       "        vertical-align: top;\n",
       "    }\n",
       "\n",
       "    .dataframe thead th {\n",
       "        text-align: right;\n",
       "    }\n",
       "</style>\n",
       "<table border=\"1\" class=\"dataframe\">\n",
       "  <thead>\n",
       "    <tr style=\"text-align: right;\">\n",
       "      <th></th>\n",
       "      <th>ID</th>\n",
       "    </tr>\n",
       "  </thead>\n",
       "  <tbody>\n",
       "    <tr>\n",
       "      <th>0</th>\n",
       "      <td>1</td>\n",
       "    </tr>\n",
       "    <tr>\n",
       "      <th>1</th>\n",
       "      <td>2</td>\n",
       "    </tr>\n",
       "    <tr>\n",
       "      <th>2</th>\n",
       "      <td>3</td>\n",
       "    </tr>\n",
       "    <tr>\n",
       "      <th>3</th>\n",
       "      <td>4</td>\n",
       "    </tr>\n",
       "  </tbody>\n",
       "</table>\n",
       "</div>"
      ],
      "text/plain": [
       "   ID\n",
       "0   1\n",
       "1   2\n",
       "2   3\n",
       "3   4"
      ]
     },
     "execution_count": 22,
     "metadata": {},
     "output_type": "execute_result"
    }
   ],
   "source": [
    "#Retrieving the \"ID\" column and assigning it to a variable a\n",
    "\n",
    "a = df[['ID']]\n",
    "a"
   ]
  },
  {
   "cell_type": "code",
   "execution_count": 23,
   "id": "b596d1f4",
   "metadata": {},
   "outputs": [
    {
     "data": {
      "text/plain": [
       "pandas.core.frame.DataFrame"
      ]
     },
     "execution_count": 23,
     "metadata": {},
     "output_type": "execute_result"
    }
   ],
   "source": [
    "type(a)  \n",
    "\n",
    "# Output is like this bcz Pandas has 2 datatypes: Dataframe and series unlike python having datatypes (int, str, dict etc)"
   ]
  },
  {
   "cell_type": "code",
   "execution_count": 24,
   "id": "fca60ac9",
   "metadata": {},
   "outputs": [
    {
     "data": {
      "text/html": [
       "<div>\n",
       "<style scoped>\n",
       "    .dataframe tbody tr th:only-of-type {\n",
       "        vertical-align: middle;\n",
       "    }\n",
       "\n",
       "    .dataframe tbody tr th {\n",
       "        vertical-align: top;\n",
       "    }\n",
       "\n",
       "    .dataframe thead th {\n",
       "        text-align: right;\n",
       "    }\n",
       "</style>\n",
       "<table border=\"1\" class=\"dataframe\">\n",
       "  <thead>\n",
       "    <tr style=\"text-align: right;\">\n",
       "      <th></th>\n",
       "      <th>Department</th>\n",
       "      <th>ID</th>\n",
       "      <th>Salary</th>\n",
       "    </tr>\n",
       "  </thead>\n",
       "  <tbody>\n",
       "    <tr>\n",
       "      <th>0</th>\n",
       "      <td>Architect Group</td>\n",
       "      <td>1</td>\n",
       "      <td>100000</td>\n",
       "    </tr>\n",
       "    <tr>\n",
       "      <th>1</th>\n",
       "      <td>Software Group</td>\n",
       "      <td>2</td>\n",
       "      <td>80000</td>\n",
       "    </tr>\n",
       "    <tr>\n",
       "      <th>2</th>\n",
       "      <td>Design Team</td>\n",
       "      <td>3</td>\n",
       "      <td>50000</td>\n",
       "    </tr>\n",
       "    <tr>\n",
       "      <th>3</th>\n",
       "      <td>Infrastructure</td>\n",
       "      <td>4</td>\n",
       "      <td>60000</td>\n",
       "    </tr>\n",
       "  </tbody>\n",
       "</table>\n",
       "</div>"
      ],
      "text/plain": [
       "        Department  ID  Salary\n",
       "0  Architect Group   1  100000\n",
       "1   Software Group   2   80000\n",
       "2      Design Team   3   50000\n",
       "3   Infrastructure   4   60000"
      ]
     },
     "execution_count": 24,
     "metadata": {},
     "output_type": "execute_result"
    }
   ],
   "source": [
    "# Access to multiple columns\n",
    "#Retrieving the Department, Salary and ID columns and assigning it to a variable b\n",
    "\n",
    "b = df[['Department', 'ID', 'Salary']]\n",
    "b"
   ]
  },
  {
   "cell_type": "markdown",
   "id": "5066705e",
   "metadata": {},
   "source": [
    "###### To view the column as a series, just use one bracket:"
   ]
  },
  {
   "cell_type": "code",
   "execution_count": 25,
   "id": "5b92b905",
   "metadata": {},
   "outputs": [
    {
     "data": {
      "text/plain": [
       "0    Architect Group\n",
       "1     Software Group\n",
       "2        Design Team\n",
       "3     Infrastructure\n",
       "Name: Department, dtype: object"
      ]
     },
     "execution_count": 25,
     "metadata": {},
     "output_type": "execute_result"
    }
   ],
   "source": [
    "b = df['Department']\n",
    "b"
   ]
  },
  {
   "cell_type": "code",
   "execution_count": 26,
   "id": "92eaf776",
   "metadata": {},
   "outputs": [
    {
     "data": {
      "text/plain": [
       "pandas.core.series.Series"
      ]
     },
     "execution_count": 26,
     "metadata": {},
     "output_type": "execute_result"
    }
   ],
   "source": [
    "type(b)"
   ]
  },
  {
   "cell_type": "markdown",
   "id": "ab16813e",
   "metadata": {},
   "source": [
    "## loc() & iloc() Functions"
   ]
  },
  {
   "cell_type": "markdown",
   "id": "536093a2",
   "metadata": {},
   "source": [
    "###### loc() \n",
    "It is a label-based data selecting method which means that we have to pass the name of the row or column that we want to select. This method includes the last element of the range passed in it.\n",
    "\n",
    "Simple syntax for your understanding:\n",
    "\n",
    "loc[row_label, column_label]"
   ]
  },
  {
   "cell_type": "markdown",
   "id": "12a987a5",
   "metadata": {},
   "source": [
    "###### iloc() \n",
    "\n",
    "It is an indexed-based selecting method which means that we have to pass an integer index in the method to select a specific row/column. This method does not include the last element of the range passed in it.\n",
    "\n",
    "Simple syntax for your understanding:\n",
    "\n",
    "iloc[row_index, column_index]"
   ]
  },
  {
   "cell_type": "code",
   "execution_count": 27,
   "id": "f4f84fe1",
   "metadata": {},
   "outputs": [
    {
     "data": {
      "text/plain": [
       "100000"
      ]
     },
     "execution_count": 27,
     "metadata": {},
     "output_type": "execute_result"
    }
   ],
   "source": [
    "# Access the column using the name\n",
    "\n",
    "df.loc[0, 'Salary']"
   ]
  },
  {
   "cell_type": "code",
   "execution_count": 28,
   "id": "6cffbf3c",
   "metadata": {},
   "outputs": [
    {
     "data": {
      "text/plain": [
       "'Rose'"
      ]
     },
     "execution_count": 28,
     "metadata": {},
     "output_type": "execute_result"
    }
   ],
   "source": [
    "# Access the value on the first row and the first column\n",
    "\n",
    "df.iloc[0,0]"
   ]
  },
  {
   "cell_type": "code",
   "execution_count": 29,
   "id": "9299cef1",
   "metadata": {},
   "outputs": [
    {
     "data": {
      "text/plain": [
       "'Architect Group'"
      ]
     },
     "execution_count": 29,
     "metadata": {},
     "output_type": "execute_result"
    }
   ],
   "source": [
    "# Access the value on the first row and the third column\n",
    "\n",
    "df.iloc[0,2]"
   ]
  },
  {
   "cell_type": "code",
   "execution_count": null,
   "id": "9c318268",
   "metadata": {},
   "outputs": [],
   "source": []
  }
 ],
 "metadata": {
  "kernelspec": {
   "display_name": "Python 3 (ipykernel)",
   "language": "python",
   "name": "python3"
  },
  "language_info": {
   "codemirror_mode": {
    "name": "ipython",
    "version": 3
   },
   "file_extension": ".py",
   "mimetype": "text/x-python",
   "name": "python",
   "nbconvert_exporter": "python",
   "pygments_lexer": "ipython3",
   "version": "3.11.5"
  }
 },
 "nbformat": 4,
 "nbformat_minor": 5
}
