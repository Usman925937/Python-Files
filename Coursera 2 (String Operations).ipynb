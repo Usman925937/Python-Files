{
 "cells": [
  {
   "cell_type": "code",
   "execution_count": null,
   "id": "57922d65",
   "metadata": {},
   "outputs": [],
   "source": [
    "What are Strings?"
   ]
  },
  {
   "cell_type": "code",
   "execution_count": 1,
   "id": "b90ca4a3",
   "metadata": {},
   "outputs": [
    {
     "name": "stdout",
     "output_type": "stream",
     "text": [
      "Michael Jackson\n"
     ]
    }
   ],
   "source": [
    "# Use quotation marks for defining string\n",
    "\n",
    "print ('Michael Jackson')"
   ]
  },
  {
   "cell_type": "code",
   "execution_count": null,
   "id": "8260ccd6",
   "metadata": {},
   "outputs": [],
   "source": [
    "# A string can be a combination of spaces and digits:\n",
    "\n",
    "1 2 3 4 5 6 7 8 9 "
   ]
  },
  {
   "cell_type": "code",
   "execution_count": null,
   "id": "810b5581",
   "metadata": {},
   "outputs": [],
   "source": [
    "# A string can also be a combination of special characters :\n",
    "\n",
    "_@#!%^&]"
   ]
  },
  {
   "cell_type": "code",
   "execution_count": null,
   "id": "4a003fd1",
   "metadata": {},
   "outputs": [],
   "source": []
  },
  {
   "cell_type": "code",
   "execution_count": null,
   "id": "3759bbef",
   "metadata": {},
   "outputs": [],
   "source": [
    "# INDEXING"
   ]
  },
  {
   "cell_type": "code",
   "execution_count": null,
   "id": "77078102",
   "metadata": {},
   "outputs": [],
   "source": [
    "M I C H A E L   J A C  K  S  O  N\n",
    "0 1 2 3 4 5 6 7 8 9 10 11 12 13 14\n",
    "\n",
    "Negative Indexing\n",
    "M    I   C   H   A   E   L     J  A  C  K  S  O  N\n",
    "-15 -14 -13 -12 -11 -10 -9 -8 -7 -6 -5 -4 -3 -2 -1"
   ]
  },
  {
   "cell_type": "code",
   "execution_count": null,
   "id": "3e088180",
   "metadata": {},
   "outputs": [],
   "source": []
  },
  {
   "cell_type": "code",
   "execution_count": null,
   "id": "f227193b",
   "metadata": {},
   "outputs": [],
   "source": [
    "# SLICING"
   ]
  },
  {
   "cell_type": "code",
   "execution_count": 3,
   "id": "fe165d28",
   "metadata": {},
   "outputs": [],
   "source": [
    "Name = 'Michael Jackson'"
   ]
  },
  {
   "cell_type": "code",
   "execution_count": 4,
   "id": "7fe97325",
   "metadata": {},
   "outputs": [
    {
     "data": {
      "text/plain": [
       "'Mich'"
      ]
     },
     "execution_count": 4,
     "metadata": {},
     "output_type": "execute_result"
    }
   ],
   "source": [
    "Name [0:4]"
   ]
  },
  {
   "cell_type": "code",
   "execution_count": 5,
   "id": "8a023bfa",
   "metadata": {},
   "outputs": [
    {
     "data": {
      "text/plain": [
       "'Jack'"
      ]
     },
     "execution_count": 5,
     "metadata": {},
     "output_type": "execute_result"
    }
   ],
   "source": [
    "Name [8:12]"
   ]
  },
  {
   "cell_type": "code",
   "execution_count": null,
   "id": "0135019e",
   "metadata": {},
   "outputs": [],
   "source": []
  },
  {
   "cell_type": "code",
   "execution_count": null,
   "id": "38cd44b3",
   "metadata": {},
   "outputs": [],
   "source": [
    "# STRIDE"
   ]
  },
  {
   "cell_type": "code",
   "execution_count": 6,
   "id": "acf494bc",
   "metadata": {},
   "outputs": [
    {
     "data": {
      "text/plain": [
       "'McalJcsn'"
      ]
     },
     "execution_count": 6,
     "metadata": {},
     "output_type": "execute_result"
    }
   ],
   "source": [
    "Name [::2]       #2 denotes that we are selecting every 2nd value from word Michael jackson and counting starts from 0"
   ]
  },
  {
   "cell_type": "code",
   "execution_count": null,
   "id": "ee99ca0e",
   "metadata": {},
   "outputs": [],
   "source": []
  },
  {
   "cell_type": "code",
   "execution_count": null,
   "id": "804c471f",
   "metadata": {},
   "outputs": [],
   "source": [
    "# Concatenate Strings"
   ]
  },
  {
   "cell_type": "code",
   "execution_count": 7,
   "id": "f2a0bc36",
   "metadata": {},
   "outputs": [
    {
     "data": {
      "text/plain": [
       "'Michael Jackson was the best dancer'"
      ]
     },
     "execution_count": 7,
     "metadata": {},
     "output_type": "execute_result"
    }
   ],
   "source": [
    "Name = 'Michael Jackson'\n",
    "Statement = Name + ' was the best dancer'\n",
    "Statement"
   ]
  },
  {
   "cell_type": "code",
   "execution_count": null,
   "id": "43ffb560",
   "metadata": {},
   "outputs": [],
   "source": []
  },
  {
   "cell_type": "code",
   "execution_count": null,
   "id": "75839f18",
   "metadata": {},
   "outputs": [],
   "source": [
    "# ESCAPE SEQUENCES"
   ]
  },
  {
   "cell_type": "code",
   "execution_count": 8,
   "id": "c4570b3a",
   "metadata": {},
   "outputs": [
    {
     "name": "stdout",
     "output_type": "stream",
     "text": [
      "Hi,\n",
      " my name is Muhammad Usman\n"
     ]
    }
   ],
   "source": [
    "print ('Hi,\\n my name is Muhammad Usman')         #\\n represents new line"
   ]
  },
  {
   "cell_type": "code",
   "execution_count": 9,
   "id": "91d84b61",
   "metadata": {},
   "outputs": [
    {
     "name": "stdout",
     "output_type": "stream",
     "text": [
      "Hello there! \t how are you\n"
     ]
    }
   ],
   "source": [
    "print ('Hello there! \\t how are you')             #\\t represents tabs"
   ]
  },
  {
   "cell_type": "code",
   "execution_count": 10,
   "id": "8812589e",
   "metadata": {},
   "outputs": [
    {
     "name": "stdout",
     "output_type": "stream",
     "text": [
      "Hello there! \\ how are you\n"
     ]
    }
   ],
   "source": [
    "print ('Hello there! \\\\ how are you') "
   ]
  },
  {
   "cell_type": "code",
   "execution_count": 11,
   "id": "91d5dcf3",
   "metadata": {},
   "outputs": [
    {
     "name": "stdout",
     "output_type": "stream",
     "text": [
      "Hello there! \\ how are you\n"
     ]
    }
   ],
   "source": [
    "print (r'Hello there! \\ how are you')             #r will tell python that string will be displayed as raw string"
   ]
  },
  {
   "cell_type": "code",
   "execution_count": null,
   "id": "254c8a55",
   "metadata": {},
   "outputs": [],
   "source": []
  },
  {
   "cell_type": "code",
   "execution_count": null,
   "id": "e7891f75",
   "metadata": {},
   "outputs": [],
   "source": [
    "# String Manipulation Operations"
   ]
  },
  {
   "cell_type": "code",
   "execution_count": 12,
   "id": "03444441",
   "metadata": {},
   "outputs": [
    {
     "name": "stdout",
     "output_type": "stream",
     "text": [
      "before upper: Thriller is the sixth studio album\n",
      "After upper: THRILLER IS THE SIXTH STUDIO ALBUM\n"
     ]
    }
   ],
   "source": [
    "# Convert all the characters in string to upper case\n",
    "\n",
    "a = \"Thriller is the sixth studio album\"\n",
    "print(\"before upper:\", a)\n",
    "b = a.upper()\n",
    "print(\"After upper:\", b)"
   ]
  },
  {
   "cell_type": "code",
   "execution_count": 13,
   "id": "a5fce6d8",
   "metadata": {},
   "outputs": [
    {
     "data": {
      "text/plain": [
       "'THRILLER IS THE SIXTH STUDIO ALBUM'"
      ]
     },
     "execution_count": 13,
     "metadata": {},
     "output_type": "execute_result"
    }
   ],
   "source": [
    "a = \"Thriller is the sixth studio album\"\n",
    "a.upper()"
   ]
  },
  {
   "cell_type": "code",
   "execution_count": 14,
   "id": "64783077",
   "metadata": {},
   "outputs": [
    {
     "name": "stdout",
     "output_type": "stream",
     "text": [
      "THRILLER IS THE SIXTH STUDIO ALBUM\n"
     ]
    }
   ],
   "source": [
    "print (a.upper())"
   ]
  },
  {
   "cell_type": "code",
   "execution_count": null,
   "id": "de3d7e6a",
   "metadata": {},
   "outputs": [],
   "source": []
  },
  {
   "cell_type": "code",
   "execution_count": 15,
   "id": "e37f1f9d",
   "metadata": {},
   "outputs": [
    {
     "data": {
      "text/plain": [
       "'Mike Jackson is the best'"
      ]
     },
     "execution_count": 15,
     "metadata": {},
     "output_type": "execute_result"
    }
   ],
   "source": [
    "# Replace the old substring with the new target substring is the segment has been found in the string\n",
    "\n",
    "a = \"Michael Jackson is the best\"\n",
    "a.replace('Michael','Mike')"
   ]
  },
  {
   "cell_type": "code",
   "execution_count": 16,
   "id": "fb077401",
   "metadata": {},
   "outputs": [
    {
     "data": {
      "text/plain": [
       "5"
      ]
     },
     "execution_count": 16,
     "metadata": {},
     "output_type": "execute_result"
    }
   ],
   "source": [
    "# Find the substring in the string. Only the index of the first elment of substring in string will be the output\n",
    "\n",
    "name = 'Michael Jackson'\n",
    "name.find ('el')\n"
   ]
  },
  {
   "cell_type": "code",
   "execution_count": 17,
   "id": "355383c6",
   "metadata": {},
   "outputs": [
    {
     "data": {
      "text/plain": [
       "8"
      ]
     },
     "execution_count": 17,
     "metadata": {},
     "output_type": "execute_result"
    }
   ],
   "source": [
    "name.find ('Jackson')"
   ]
  },
  {
   "cell_type": "code",
   "execution_count": 18,
   "id": "2e70613a",
   "metadata": {},
   "outputs": [
    {
     "data": {
      "text/plain": [
       "-1"
      ]
     },
     "execution_count": 18,
     "metadata": {},
     "output_type": "execute_result"
    }
   ],
   "source": [
    "# If cannot find the substring in the string or If the sub-string is not in the string then the output is a negative one. \n",
    "\n",
    "name.find('Jasdfasdasdf')"
   ]
  },
  {
   "cell_type": "code",
   "execution_count": 19,
   "id": "612f8bf6",
   "metadata": {},
   "outputs": [
    {
     "data": {
      "text/plain": [
       "['Michael', 'Jackson']"
      ]
     },
     "execution_count": 19,
     "metadata": {},
     "output_type": "execute_result"
    }
   ],
   "source": [
    "#Split the substring into list\n",
    "name = \"Michael Jackson\"\n",
    "split_string = (name.split())\n",
    "split_string"
   ]
  },
  {
   "cell_type": "code",
   "execution_count": 20,
   "id": "8079a028",
   "metadata": {},
   "outputs": [
    {
     "data": {
      "text/plain": [
       "['Michael', 'Jackson']"
      ]
     },
     "execution_count": 20,
     "metadata": {},
     "output_type": "execute_result"
    }
   ],
   "source": [
    "# Or you can also do this\n",
    "name = 'Michael Jackson'\n",
    "(name.split())"
   ]
  },
  {
   "cell_type": "code",
   "execution_count": null,
   "id": "c28f686a",
   "metadata": {},
   "outputs": [],
   "source": []
  },
  {
   "cell_type": "code",
   "execution_count": null,
   "id": "1a3a544f",
   "metadata": {},
   "outputs": [],
   "source": [
    "# RegEX"
   ]
  },
  {
   "cell_type": "code",
   "execution_count": 21,
   "id": "771caea1",
   "metadata": {},
   "outputs": [],
   "source": [
    "import re"
   ]
  },
  {
   "cell_type": "code",
   "execution_count": 22,
   "id": "b41519cb",
   "metadata": {},
   "outputs": [],
   "source": [
    "s1 = 'Michael Jackson is the best'"
   ]
  },
  {
   "cell_type": "code",
   "execution_count": 23,
   "id": "2e09afcf",
   "metadata": {},
   "outputs": [
    {
     "name": "stdout",
     "output_type": "stream",
     "text": [
      "Match found\n"
     ]
    }
   ],
   "source": [
    "result = re.search('Jackson', s1)\n",
    "if result:\n",
    "    print('Match found')\n",
    "else:\n",
    "    print('Match not found')"
   ]
  },
  {
   "cell_type": "code",
   "execution_count": null,
   "id": "2dcc310d",
   "metadata": {},
   "outputs": [],
   "source": []
  },
  {
   "cell_type": "code",
   "execution_count": 24,
   "id": "dbab69c7",
   "metadata": {},
   "outputs": [],
   "source": [
    "import re"
   ]
  },
  {
   "cell_type": "code",
   "execution_count": 25,
   "id": "1bef789e",
   "metadata": {},
   "outputs": [],
   "source": [
    "quote = 'life is short but life is difficult too.'"
   ]
  },
  {
   "cell_type": "code",
   "execution_count": 26,
   "id": "e2bb43b5",
   "metadata": {},
   "outputs": [
    {
     "data": {
      "text/plain": [
       "'life'"
      ]
     },
     "execution_count": 26,
     "metadata": {},
     "output_type": "execute_result"
    }
   ],
   "source": [
    "re.search('life',quote).group()"
   ]
  },
  {
   "cell_type": "code",
   "execution_count": null,
   "id": "2354529a",
   "metadata": {},
   "outputs": [],
   "source": []
  },
  {
   "cell_type": "code",
   "execution_count": null,
   "id": "7aa3e702",
   "metadata": {},
   "outputs": [],
   "source": [
    "# findall\n",
    "import re"
   ]
  },
  {
   "cell_type": "code",
   "execution_count": 27,
   "id": "3edbf728",
   "metadata": {},
   "outputs": [],
   "source": [
    "quote = 'life is short but life is difficult too.'"
   ]
  },
  {
   "cell_type": "code",
   "execution_count": 28,
   "id": "ac2ab7bc",
   "metadata": {},
   "outputs": [
    {
     "data": {
      "text/plain": [
       "['life', 'life']"
      ]
     },
     "execution_count": 28,
     "metadata": {},
     "output_type": "execute_result"
    }
   ],
   "source": [
    "re.findall('life', quote)"
   ]
  },
  {
   "cell_type": "code",
   "execution_count": 29,
   "id": "960b2d80",
   "metadata": {},
   "outputs": [
    {
     "data": {
      "text/plain": [
       "2"
      ]
     },
     "execution_count": 29,
     "metadata": {},
     "output_type": "execute_result"
    }
   ],
   "source": [
    "len(re.findall('life',quote))       #len stands for length"
   ]
  },
  {
   "cell_type": "code",
   "execution_count": null,
   "id": "315eb0a0",
   "metadata": {},
   "outputs": [],
   "source": []
  },
  {
   "cell_type": "code",
   "execution_count": 30,
   "id": "e8d37ccf",
   "metadata": {},
   "outputs": [
    {
     "data": {
      "text/plain": [
       "['life is short but life is difficult too.']"
      ]
     },
     "execution_count": 30,
     "metadata": {},
     "output_type": "execute_result"
    }
   ],
   "source": [
    "# split\n",
    "re.split('/.',quote)"
   ]
  },
  {
   "cell_type": "code",
   "execution_count": null,
   "id": "ac8f6b0a",
   "metadata": {},
   "outputs": [],
   "source": []
  },
  {
   "cell_type": "code",
   "execution_count": 33,
   "id": "7f25d01f",
   "metadata": {},
   "outputs": [
    {
     "data": {
      "text/plain": [
       "'life is short which means that life is difficult too.'"
      ]
     },
     "execution_count": 33,
     "metadata": {},
     "output_type": "execute_result"
    }
   ],
   "source": [
    "# sub\n",
    "re.sub('but','which means that', quote)"
   ]
  },
  {
   "cell_type": "code",
   "execution_count": 34,
   "id": "bd990f24",
   "metadata": {},
   "outputs": [
    {
     "data": {
      "text/plain": [
       "'it is short but it is difficult too.'"
      ]
     },
     "execution_count": 34,
     "metadata": {},
     "output_type": "execute_result"
    }
   ],
   "source": [
    "re.sub('life', 'it', quote, count=2)"
   ]
  },
  {
   "cell_type": "code",
   "execution_count": null,
   "id": "109f2d66",
   "metadata": {},
   "outputs": [],
   "source": []
  },
  {
   "cell_type": "code",
   "execution_count": 35,
   "id": "064ba989",
   "metadata": {},
   "outputs": [],
   "source": [
    "# Quiz on Strings"
   ]
  },
  {
   "cell_type": "code",
   "execution_count": 36,
   "id": "d405a2e6",
   "metadata": {},
   "outputs": [
    {
     "data": {
      "text/plain": [
       "'1'"
      ]
     },
     "execution_count": 36,
     "metadata": {},
     "output_type": "execute_result"
    }
   ],
   "source": [
    "a = \"1\"\n",
    "a"
   ]
  },
  {
   "cell_type": "code",
   "execution_count": 37,
   "id": "cff3b155",
   "metadata": {},
   "outputs": [
    {
     "data": {
      "text/plain": [
       "'2'"
      ]
     },
     "execution_count": 37,
     "metadata": {},
     "output_type": "execute_result"
    }
   ],
   "source": [
    "b = \"2\"\n",
    "b"
   ]
  },
  {
   "cell_type": "code",
   "execution_count": 38,
   "id": "c769f2f5",
   "metadata": {},
   "outputs": [
    {
     "data": {
      "text/plain": [
       "'12'"
      ]
     },
     "execution_count": 38,
     "metadata": {},
     "output_type": "execute_result"
    }
   ],
   "source": [
    "c = a + b\n",
    "c"
   ]
  },
  {
   "cell_type": "code",
   "execution_count": 39,
   "id": "940d8601",
   "metadata": {},
   "outputs": [
    {
     "data": {
      "text/plain": [
       "'ABC'"
      ]
     },
     "execution_count": 39,
     "metadata": {},
     "output_type": "execute_result"
    }
   ],
   "source": [
    "# Consider the variable d use slicing to print out the first three elements:\n",
    "# Write your code below and press Shift+Enter to execute\n",
    "\n",
    "d = \"ABCDEFG\"\n",
    "d[0:3]"
   ]
  },
  {
   "cell_type": "code",
   "execution_count": 40,
   "id": "848e4bc4",
   "metadata": {},
   "outputs": [
    {
     "data": {
      "text/plain": [
       "'correct'"
      ]
     },
     "execution_count": 40,
     "metadata": {},
     "output_type": "execute_result"
    }
   ],
   "source": [
    "# Use a stride value of 2 to print out every second character of the string <code>e</code>:\n",
    "# Write your code below and press Shift+Enter to execute\n",
    "\n",
    "e = 'clocrkr1e1c1t'\n",
    "e[::2]"
   ]
  },
  {
   "cell_type": "code",
   "execution_count": 41,
   "id": "d01826cf",
   "metadata": {},
   "outputs": [
    {
     "name": "stdout",
     "output_type": "stream",
     "text": [
      "\\\n"
     ]
    }
   ],
   "source": [
    "# Print out a backslash:\n",
    "# Write your code below and press Shift+Enter to execute\n",
    "\n",
    "print ('\\\\')"
   ]
  },
  {
   "cell_type": "code",
   "execution_count": 42,
   "id": "659c47c0",
   "metadata": {},
   "outputs": [
    {
     "data": {
      "text/plain": [
       "'YOU ARE WRONG'"
      ]
     },
     "execution_count": 42,
     "metadata": {},
     "output_type": "execute_result"
    }
   ],
   "source": [
    "# Convert the variable f to uppercase: \n",
    "# Write your code below and press Shift+Enter to execute\n",
    "\n",
    "f = \"You are wrong\"\n",
    "f.upper()"
   ]
  },
  {
   "cell_type": "code",
   "execution_count": 43,
   "id": "99859714",
   "metadata": {},
   "outputs": [
    {
     "data": {
      "text/plain": [
       "'you are right'"
      ]
     },
     "execution_count": 43,
     "metadata": {},
     "output_type": "execute_result"
    }
   ],
   "source": [
    "# Convert the variable f2 to lowercase:\n",
    "# Write your code below and press Shift+Enter to execute\n",
    "\n",
    "f2=\"YOU ARE RIGHT\"\n",
    "f2.lower()"
   ]
  },
  {
   "cell_type": "code",
   "execution_count": 44,
   "id": "b3e49320",
   "metadata": {},
   "outputs": [
    {
     "data": {
      "text/plain": [
       "95"
      ]
     },
     "execution_count": 44,
     "metadata": {},
     "output_type": "execute_result"
    }
   ],
   "source": [
    "# Consider the variable g, and find the first index of the sub-string snow:\n",
    "# Write your code below and press Shift+Enter to execute\n",
    "\n",
    "g = \"Mary had a little lamb Little lamb, little lamb Mary had a little lamb \\\n",
    "Its fleece was white as snow And everywhere that Mary went Mary went, Mary went \\\n",
    "Everywhere that Mary went The lamb was sure to go\"\n",
    "\n",
    "g.find('snow')"
   ]
  },
  {
   "cell_type": "code",
   "execution_count": 45,
   "id": "66e3fd34",
   "metadata": {},
   "outputs": [
    {
     "data": {
      "text/plain": [
       "'Bob had a little lamb Little lamb, little lamb Bob had a little lamb Its fleece was white as snow And everywhere that Bob went Bob went, Bob went Everywhere that Bob went The lamb was sure to go'"
      ]
     },
     "execution_count": 45,
     "metadata": {},
     "output_type": "execute_result"
    }
   ],
   "source": [
    "# In the variable g, replace the sub-string Mary with Bob:\n",
    "# Write your code below and press Shift+Enter to execute\n",
    "\n",
    "g.replace('Mary', 'Bob')"
   ]
  },
  {
   "cell_type": "code",
   "execution_count": 46,
   "id": "a3e36043",
   "metadata": {},
   "outputs": [
    {
     "data": {
      "text/plain": [
       "'Mary had a little lamb Little lamb. little lamb Mary had a little lamb Its fleece was white as snow And everywhere that Mary went Mary went. Mary went Everywhere that Mary went The lamb was sure to go'"
      ]
     },
     "execution_count": 46,
     "metadata": {},
     "output_type": "execute_result"
    }
   ],
   "source": [
    "# In the variable g, replace the sub-string , with .:\n",
    "# Write your code below and press Shift+Enter to execute\n",
    "\n",
    "g.replace(',','.')"
   ]
  },
  {
   "cell_type": "code",
   "execution_count": 47,
   "id": "03eb2411",
   "metadata": {},
   "outputs": [
    {
     "data": {
      "text/plain": [
       "['Mary',\n",
       " 'had',\n",
       " 'a',\n",
       " 'little',\n",
       " 'lamb',\n",
       " 'Little',\n",
       " 'lamb,',\n",
       " 'little',\n",
       " 'lamb',\n",
       " 'Mary',\n",
       " 'had',\n",
       " 'a',\n",
       " 'little',\n",
       " 'lamb',\n",
       " 'Its',\n",
       " 'fleece',\n",
       " 'was',\n",
       " 'white',\n",
       " 'as',\n",
       " 'snow',\n",
       " 'And',\n",
       " 'everywhere',\n",
       " 'that',\n",
       " 'Mary',\n",
       " 'went',\n",
       " 'Mary',\n",
       " 'went,',\n",
       " 'Mary',\n",
       " 'went',\n",
       " 'Everywhere',\n",
       " 'that',\n",
       " 'Mary',\n",
       " 'went',\n",
       " 'The',\n",
       " 'lamb',\n",
       " 'was',\n",
       " 'sure',\n",
       " 'to',\n",
       " 'go']"
      ]
     },
     "execution_count": 47,
     "metadata": {},
     "output_type": "execute_result"
    }
   ],
   "source": [
    "# In the variable g, split the substring to list:\n",
    "# Write your code below and press Shift+Enter to execute\n",
    "\n",
    "g.split()"
   ]
  },
  {
   "cell_type": "code",
   "execution_count": 48,
   "id": "5aa4cf60",
   "metadata": {},
   "outputs": [
    {
     "name": "stdout",
     "output_type": "stream",
     "text": [
      "Digit found\n"
     ]
    }
   ],
   "source": [
    "# In the string s3, find whether the digit is present or not using the \\d and search() function:\n",
    "s3 = \"House number- 1105\"\n",
    "# Write your code below and press Shift+Enter to execute\n",
    "\n",
    "result = re.search('\\d', s3)\n",
    "if result:\n",
    "    print('Digit found')\n",
    "else:\n",
    "    print ('Digit not found')"
   ]
  },
  {
   "cell_type": "code",
   "execution_count": 49,
   "id": "a5587c8f",
   "metadata": {},
   "outputs": [
    {
     "data": {
      "text/plain": [
       "'The quick brown bear jumps over the lazy dog.'"
      ]
     },
     "execution_count": 49,
     "metadata": {},
     "output_type": "execute_result"
    }
   ],
   "source": [
    "# In the string str1, replace the sub-string fox with bear using sub() function:\n",
    "str1= \"The quick brown fox jumps over the lazy dog.\"\n",
    "\n",
    "# Write your code below and press Shift+Enter to execute\n",
    "\n",
    "re.sub ('fox', 'bear', str1)"
   ]
  },
  {
   "cell_type": "code",
   "execution_count": 50,
   "id": "528266cc",
   "metadata": {},
   "outputs": [
    {
     "data": {
      "text/plain": [
       "['woo', 'woo', 'woo', 'woo']"
      ]
     },
     "execution_count": 50,
     "metadata": {},
     "output_type": "execute_result"
    }
   ],
   "source": [
    "# In the string str2 find all the occurrences of woo using findall() function:\n",
    "str2= \"How much wood would a woodchuck chuck, if a woodchuck could chuck wood?\"\n",
    "\n",
    "# Write your code below and press Shift+Enter to execute\n",
    "\n",
    "re.findall('woo', str2)"
   ]
  },
  {
   "cell_type": "code",
   "execution_count": 51,
   "id": "8b80ef88",
   "metadata": {},
   "outputs": [
    {
     "data": {
      "text/plain": [
       "6"
      ]
     },
     "execution_count": 51,
     "metadata": {},
     "output_type": "execute_result"
    }
   ],
   "source": [
    "\"hello Mike\".find(\"Mike\")"
   ]
  },
  {
   "cell_type": "code",
   "execution_count": 52,
   "id": "47352add",
   "metadata": {},
   "outputs": [
    {
     "data": {
      "text/plain": [
       "2"
      ]
     },
     "execution_count": 52,
     "metadata": {},
     "output_type": "execute_result"
    }
   ],
   "source": [
    "x=1\n",
    "x=x+1\n",
    "x"
   ]
  },
  {
   "cell_type": "code",
   "execution_count": 53,
   "id": "0d77fdb9",
   "metadata": {},
   "outputs": [
    {
     "data": {
      "text/plain": [
       "7"
      ]
     },
     "execution_count": 53,
     "metadata": {},
     "output_type": "execute_result"
    }
   ],
   "source": [
    "1+3*2"
   ]
  },
  {
   "cell_type": "code",
   "execution_count": 54,
   "id": "6c51a913",
   "metadata": {},
   "outputs": [
    {
     "data": {
      "text/plain": [
       "int"
      ]
     },
     "execution_count": 54,
     "metadata": {},
     "output_type": "execute_result"
    }
   ],
   "source": [
    "type(int(12.3))"
   ]
  },
  {
   "cell_type": "code",
   "execution_count": 55,
   "id": "ed746d22",
   "metadata": {},
   "outputs": [
    {
     "data": {
      "text/plain": [
       "1"
      ]
     },
     "execution_count": 55,
     "metadata": {},
     "output_type": "execute_result"
    }
   ],
   "source": [
    "int(True)"
   ]
  },
  {
   "cell_type": "code",
   "execution_count": 56,
   "id": "822e0791",
   "metadata": {},
   "outputs": [
    {
     "data": {
      "text/plain": [
       "'12'"
      ]
     },
     "execution_count": 56,
     "metadata": {},
     "output_type": "execute_result"
    }
   ],
   "source": [
    "'1'+'2'"
   ]
  },
  {
   "cell_type": "code",
   "execution_count": 57,
   "id": "d765ca8a",
   "metadata": {},
   "outputs": [
    {
     "data": {
      "text/plain": [
       "'HELLO'"
      ]
     },
     "execution_count": 57,
     "metadata": {},
     "output_type": "execute_result"
    }
   ],
   "source": [
    "'hello'.upper()"
   ]
  },
  {
   "cell_type": "code",
   "execution_count": 58,
   "id": "a2213ed9",
   "metadata": {},
   "outputs": [
    {
     "data": {
      "text/plain": [
       "'2'"
      ]
     },
     "execution_count": 58,
     "metadata": {},
     "output_type": "execute_result"
    }
   ],
   "source": [
    "str(1+1)"
   ]
  },
  {
   "cell_type": "code",
   "execution_count": 59,
   "id": "851f363c",
   "metadata": {},
   "outputs": [
    {
     "data": {
      "text/plain": [
       "1.0"
      ]
     },
     "execution_count": 59,
     "metadata": {},
     "output_type": "execute_result"
    }
   ],
   "source": [
    "x = 2/2\n",
    "x"
   ]
  },
  {
   "cell_type": "code",
   "execution_count": 60,
   "id": "960464be",
   "metadata": {},
   "outputs": [
    {
     "data": {
      "text/plain": [
       "float"
      ]
     },
     "execution_count": 60,
     "metadata": {},
     "output_type": "execute_result"
    }
   ],
   "source": [
    "type(x)"
   ]
  },
  {
   "cell_type": "code",
   "execution_count": null,
   "id": "bdc71405",
   "metadata": {},
   "outputs": [],
   "source": []
  }
 ],
 "metadata": {
  "kernelspec": {
   "display_name": "Python 3 (ipykernel)",
   "language": "python",
   "name": "python3"
  },
  "language_info": {
   "codemirror_mode": {
    "name": "ipython",
    "version": 3
   },
   "file_extension": ".py",
   "mimetype": "text/x-python",
   "name": "python",
   "nbconvert_exporter": "python",
   "pygments_lexer": "ipython3",
   "version": "3.11.5"
  }
 },
 "nbformat": 4,
 "nbformat_minor": 5
}
