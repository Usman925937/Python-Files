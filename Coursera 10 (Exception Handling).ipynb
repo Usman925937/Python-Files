{
 "cells": [
  {
   "cell_type": "code",
   "execution_count": null,
   "id": "60252784",
   "metadata": {},
   "outputs": [],
   "source": [
    "# What is an Exception?\n",
    "\n",
    "# An exception is an error that occurs during the execution of code. \n",
    "# This error causes the code to raise an exception and if not prepared to handle it will halt the execution of the code"
   ]
  },
  {
   "cell_type": "code",
   "execution_count": null,
   "id": "ad7ccf14",
   "metadata": {},
   "outputs": [],
   "source": [
    "# Examples\n",
    "\n",
    "Run each piece of code and observe the exception raised\n",
    "\n",
    "1/0\n",
    "ZeroDivisionError occurs when you try to divide by zero.\n",
    "\n",
    "y = a + 5\n",
    "NameError -- in this case, it means that you tried to use the variable a when it was not defined.\n",
    "\n",
    "a = [1, 2, 3]\n",
    "IndexError -- in this case, it occured because you tried to access data from a list using an index that does not \n",
    "exist for this list."
   ]
  },
  {
   "cell_type": "code",
   "execution_count": null,
   "id": "7898fe77",
   "metadata": {},
   "outputs": [],
   "source": [
    "# For more exceptions visit the link below\n",
    "https://docs.python.org/3/library/exceptions.html"
   ]
  },
  {
   "cell_type": "code",
   "execution_count": null,
   "id": "179f3fe9",
   "metadata": {},
   "outputs": [],
   "source": []
  },
  {
   "cell_type": "code",
   "execution_count": null,
   "id": "4ea3ca9e",
   "metadata": {},
   "outputs": [],
   "source": [
    "# potential code before try catch\n",
    "\n",
    "try:\n",
    "    # code to try to execute\n",
    "except:\n",
    "    # code to execute if there is an exception\n",
    "    \n",
    "# code that will still execute if there is an exception"
   ]
  },
  {
   "cell_type": "code",
   "execution_count": null,
   "id": "170b23bf",
   "metadata": {},
   "outputs": [],
   "source": []
  },
  {
   "cell_type": "code",
   "execution_count": 1,
   "id": "1403aa26",
   "metadata": {},
   "outputs": [
    {
     "name": "stdout",
     "output_type": "stream",
     "text": [
      "Please enter a value to divide by a22\n",
      "Success a= 0.045454545454545456\n"
     ]
    }
   ],
   "source": [
    "# Sample\n",
    "a = 1\n",
    "\n",
    "try:\n",
    "    b=int(input('Please enter a value to divide by a'))\n",
    "    a = a/b\n",
    "    print('Success a=', a)\n",
    "except:\n",
    "    print('There was an error')"
   ]
  },
  {
   "cell_type": "code",
   "execution_count": 2,
   "id": "df15d65c",
   "metadata": {},
   "outputs": [
    {
     "name": "stdout",
     "output_type": "stream",
     "text": [
      "Please enter a number to divide a 0\n",
      "Cannot divide as the value you entered is 0\n"
     ]
    }
   ],
   "source": [
    "# Try Except Specific Example\n",
    "\n",
    "a=1\n",
    "\n",
    "try: \n",
    "    b=int(input('Please enter a number to divide a '))\n",
    "    a = a/b\n",
    "    print('Success a=', a)\n",
    "except ZeroDivisionError:\n",
    "    print('Cannot divide as the value you entered is 0')\n",
    "except ValueError:\n",
    "    print('You didnot provide a number ')\n",
    "except:\n",
    "    print('Something went wrong')"
   ]
  },
  {
   "cell_type": "code",
   "execution_count": null,
   "id": "fd2faa3b",
   "metadata": {},
   "outputs": [],
   "source": [
    "# Try Except Else and Finally\n",
    "\n",
    "# Else allows one to check if there was no exception when executing the try block. \n",
    "# This is useful when we want to execute something only if there were no errors.\n",
    "\n",
    "# Finally allows us to always execute something even if there is an exception or not. This is usually used to signify the end of the try except."
   ]
  },
  {
   "cell_type": "code",
   "execution_count": 7,
   "id": "b8e2d302",
   "metadata": {},
   "outputs": [
    {
     "name": "stdout",
     "output_type": "stream",
     "text": [
      "Please enter a value to divide a = 99\n",
      "Success a = 0.010101010101010102\n"
     ]
    }
   ],
   "source": [
    "# Sample of Else\n",
    "\n",
    "a = 1\n",
    "try:\n",
    "    b = int(input('Please enter a value to divide a = '))\n",
    "    a = a/b\n",
    "except ZeroDivisionError:\n",
    "    print('Cannot divide as the value you entered is 0')\n",
    "except ValueError:\n",
    "    print('You didnot provide a number')\n",
    "except:\n",
    "    print('Something went wrong')\n",
    "else:\n",
    "    print('Success a =', a)\n",
    "        "
   ]
  },
  {
   "cell_type": "code",
   "execution_count": 12,
   "id": "6a49c10b",
   "metadata": {},
   "outputs": [
    {
     "name": "stdout",
     "output_type": "stream",
     "text": [
      "Please enter a value to divide a = 100\n",
      "Success\n",
      "a = 0.01\n",
      "Operation Completed Successfully\n"
     ]
    }
   ],
   "source": [
    "# Sample of Else & Finally\n",
    "\n",
    "a = 1\n",
    "try:\n",
    "    b = int(input('Please enter a value to divide a = '))\n",
    "    a = a/b\n",
    "except ZeroDivisionError:\n",
    "    print('Cannot divide as the value you entered is 0')\n",
    "except ValueError:\n",
    "    print('You didnot provide a value ')\n",
    "except:\n",
    "    print('Something went wrong')\n",
    "else:\n",
    "    print('Success\\na =', a)\n",
    "finally:\n",
    "    print('Operation Completed Successfully')"
   ]
  },
  {
   "cell_type": "code",
   "execution_count": null,
   "id": "ad1bbd0f",
   "metadata": {},
   "outputs": [],
   "source": []
  },
  {
   "cell_type": "code",
   "execution_count": null,
   "id": "a56b0e70",
   "metadata": {},
   "outputs": [],
   "source": []
  },
  {
   "cell_type": "code",
   "execution_count": null,
   "id": "296ea000",
   "metadata": {},
   "outputs": [],
   "source": []
  },
  {
   "cell_type": "code",
   "execution_count": null,
   "id": "f7bda492",
   "metadata": {},
   "outputs": [],
   "source": []
  },
  {
   "cell_type": "code",
   "execution_count": null,
   "id": "0a30b8f3",
   "metadata": {},
   "outputs": [],
   "source": []
  },
  {
   "cell_type": "code",
   "execution_count": null,
   "id": "594407e1",
   "metadata": {},
   "outputs": [],
   "source": []
  },
  {
   "cell_type": "code",
   "execution_count": null,
   "id": "c1af972d",
   "metadata": {},
   "outputs": [],
   "source": []
  },
  {
   "cell_type": "code",
   "execution_count": null,
   "id": "6c82a547",
   "metadata": {},
   "outputs": [],
   "source": []
  },
  {
   "cell_type": "code",
   "execution_count": null,
   "id": "d9936343",
   "metadata": {},
   "outputs": [],
   "source": []
  },
  {
   "cell_type": "code",
   "execution_count": null,
   "id": "9821f844",
   "metadata": {},
   "outputs": [],
   "source": []
  },
  {
   "cell_type": "code",
   "execution_count": null,
   "id": "da05adbd",
   "metadata": {},
   "outputs": [],
   "source": []
  },
  {
   "cell_type": "code",
   "execution_count": null,
   "id": "fa9f74b6",
   "metadata": {},
   "outputs": [],
   "source": []
  },
  {
   "cell_type": "code",
   "execution_count": null,
   "id": "41d2881c",
   "metadata": {},
   "outputs": [],
   "source": []
  },
  {
   "cell_type": "code",
   "execution_count": null,
   "id": "34aa6b0f",
   "metadata": {},
   "outputs": [],
   "source": []
  },
  {
   "cell_type": "code",
   "execution_count": null,
   "id": "eafece4c",
   "metadata": {},
   "outputs": [],
   "source": []
  },
  {
   "cell_type": "code",
   "execution_count": null,
   "id": "cbde4cdd",
   "metadata": {},
   "outputs": [],
   "source": []
  },
  {
   "cell_type": "code",
   "execution_count": null,
   "id": "58633429",
   "metadata": {},
   "outputs": [],
   "source": []
  },
  {
   "cell_type": "code",
   "execution_count": null,
   "id": "128e6082",
   "metadata": {},
   "outputs": [],
   "source": []
  },
  {
   "cell_type": "code",
   "execution_count": null,
   "id": "472909a0",
   "metadata": {},
   "outputs": [],
   "source": []
  },
  {
   "cell_type": "code",
   "execution_count": null,
   "id": "99eab073",
   "metadata": {},
   "outputs": [],
   "source": []
  },
  {
   "cell_type": "code",
   "execution_count": null,
   "id": "00cbeb59",
   "metadata": {},
   "outputs": [],
   "source": []
  },
  {
   "cell_type": "code",
   "execution_count": null,
   "id": "0c80e9c4",
   "metadata": {},
   "outputs": [],
   "source": []
  },
  {
   "cell_type": "code",
   "execution_count": null,
   "id": "965c086b",
   "metadata": {},
   "outputs": [],
   "source": []
  },
  {
   "cell_type": "code",
   "execution_count": null,
   "id": "190f17d5",
   "metadata": {},
   "outputs": [],
   "source": []
  },
  {
   "cell_type": "code",
   "execution_count": null,
   "id": "56b8b8aa",
   "metadata": {},
   "outputs": [],
   "source": []
  },
  {
   "cell_type": "code",
   "execution_count": null,
   "id": "cc47819c",
   "metadata": {},
   "outputs": [],
   "source": []
  },
  {
   "cell_type": "code",
   "execution_count": null,
   "id": "6b0814bb",
   "metadata": {},
   "outputs": [],
   "source": []
  },
  {
   "cell_type": "code",
   "execution_count": null,
   "id": "3b3ff05c",
   "metadata": {},
   "outputs": [],
   "source": []
  },
  {
   "cell_type": "code",
   "execution_count": null,
   "id": "762da96d",
   "metadata": {},
   "outputs": [],
   "source": []
  },
  {
   "cell_type": "code",
   "execution_count": null,
   "id": "6cf192bc",
   "metadata": {},
   "outputs": [],
   "source": []
  },
  {
   "cell_type": "code",
   "execution_count": null,
   "id": "1aa58abe",
   "metadata": {},
   "outputs": [],
   "source": []
  }
 ],
 "metadata": {
  "kernelspec": {
   "display_name": "Python 3 (ipykernel)",
   "language": "python",
   "name": "python3"
  },
  "language_info": {
   "codemirror_mode": {
    "name": "ipython",
    "version": 3
   },
   "file_extension": ".py",
   "mimetype": "text/x-python",
   "name": "python",
   "nbconvert_exporter": "python",
   "pygments_lexer": "ipython3",
   "version": "3.11.5"
  }
 },
 "nbformat": 4,
 "nbformat_minor": 5
}
